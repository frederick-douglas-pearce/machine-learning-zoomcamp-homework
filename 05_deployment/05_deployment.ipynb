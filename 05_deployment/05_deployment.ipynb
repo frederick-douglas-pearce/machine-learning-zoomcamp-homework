{
 "cells": [
  {
   "cell_type": "markdown",
   "id": "124f4d5c-b1c9-4d66-9c36-37df4ca34192",
   "metadata": {},
   "source": [
    "## Homework 5\n",
    "This notebook contains the solutions for the fifth homework assignment of the Machine Learning Zoomcamp 2025 course, which can be viewed on github with the following [link](https://github.com/DataTalksClub/machine-learning-zoomcamp/blob/master/cohorts/2025/05-evaluation/homework.md). The final solutions notebook is submitted for grading at the following [link](https://courses.datatalks.club/ml-zoomcamp-2025/homework/hw05).\n",
    "### Setup"
   ]
  },
  {
   "cell_type": "code",
   "execution_count": 18,
   "id": "c6f7f6fa-dc7d-4dce-b445-2a39bbdc59e4",
   "metadata": {},
   "outputs": [],
   "source": [
    "import re"
   ]
  },
  {
   "cell_type": "code",
   "execution_count": 24,
   "id": "99135bde-3b48-4833-8532-2b3f8710ab67",
   "metadata": {},
   "outputs": [],
   "source": [
    "BOLD = \"\\033[1m\""
   ]
  },
  {
   "cell_type": "markdown",
   "id": "3464f4f4-2640-4057-b13b-4143571f4af0",
   "metadata": {},
   "source": [
    "### Q1. `uv` version\n",
    "1. Install uv\n",
    "2. Use --version to find which version of `uv` was installed\n",
    "\n",
    "What's the version of uv?"
   ]
  },
  {
   "cell_type": "code",
   "execution_count": 11,
   "id": "e324d653-89d3-4d7c-9d5c-2f5b05296823",
   "metadata": {},
   "outputs": [
    {
     "name": "stdout",
     "output_type": "stream",
     "text": [
      "The `uv` version = \u001b[1m0.9.5\n"
     ]
    }
   ],
   "source": [
    "uv_version_cl = !uv --version\n",
    "uv_version = uv_version_cl[0].split()[1]\n",
    "print(f\"The `uv` version = {BOLD}{uv_version}\")"
   ]
  },
  {
   "cell_type": "markdown",
   "id": "7a4d6c66-f860-4b4e-aab0-c0e891133189",
   "metadata": {},
   "source": [
    "### Q2. Use `uv` to install Scikit-Learn\n",
    "Use `uv` to install Scikit-Learn version 1.6.1.\n",
    "\n",
    "What's the first hash for Scikit-Learn you get in the lock file?\n",
    "* Include the entire string starting with sha256\n",
    "* Don't include quotes"
   ]
  },
  {
   "cell_type": "code",
   "execution_count": 1,
   "id": "1b560cd6-633c-4b74-a175-4e8426e5de2d",
   "metadata": {},
   "outputs": [
    {
     "name": "stdout",
     "output_type": "stream",
     "text": [
      "Initialized project `\u001b[36m05-deployment\u001b[39m`\n"
     ]
    }
   ],
   "source": [
    "!uv init"
   ]
  },
  {
   "cell_type": "code",
   "execution_count": 2,
   "id": "0a7fafc9-8530-469b-ae16-dec6027b66f3",
   "metadata": {},
   "outputs": [
    {
     "name": "stdout",
     "output_type": "stream",
     "text": [
      "Using CPython 3.12.1 interpreter at: \u001b[36m/home/codespace/.python/current/bin/python3.12\u001b[39m\n",
      "Creating virtual environment at: \u001b[36m.venv\u001b[39m\n",
      "\u001b[2K\u001b[2mResolved \u001b[1m6 packages\u001b[0m \u001b[2min 242ms\u001b[0m\u001b[0m                                         \u001b[0m\n",
      "\u001b[2K\u001b[2mPrepared \u001b[1m5 packages\u001b[0m \u001b[2min 1.04s\u001b[0m\u001b[0m                                             \n",
      "\u001b[2K░░░░░░░░░░░░░░░░░░░░ [0/5] \u001b[2mInstalling wheels...                                 \u001b[0m\u001b[1m\u001b[33mwarning\u001b[39m\u001b[0m\u001b[1m:\u001b[0m \u001b[1mFailed to hardlink files; falling back to full copy. This may lead to degraded performance.\n",
      "         If the cache and target directories are on different filesystems, hardlinking may not be supported.\n",
      "         If this is intentional, set `export UV_LINK_MODE=copy` or use `--link-mode=copy` to suppress this warning.\u001b[0m\n",
      "\u001b[2K\u001b[2mInstalled \u001b[1m5 packages\u001b[0m \u001b[2min 386ms\u001b[0m\u001b[0m                               \u001b[0m\n",
      " \u001b[32m+\u001b[39m \u001b[1mjoblib\u001b[0m\u001b[2m==1.5.2\u001b[0m\n",
      " \u001b[32m+\u001b[39m \u001b[1mnumpy\u001b[0m\u001b[2m==2.3.4\u001b[0m\n",
      " \u001b[32m+\u001b[39m \u001b[1mscikit-learn\u001b[0m\u001b[2m==1.6.1\u001b[0m\n",
      " \u001b[32m+\u001b[39m \u001b[1mscipy\u001b[0m\u001b[2m==1.16.2\u001b[0m\n",
      " \u001b[32m+\u001b[39m \u001b[1mthreadpoolctl\u001b[0m\u001b[2m==3.6.0\u001b[0m\n"
     ]
    }
   ],
   "source": [
    "!uv add \"scikit-learn==1.6.1\""
   ]
  },
  {
   "cell_type": "code",
   "execution_count": 25,
   "id": "cb4d8e77-ec00-4bea-9404-3f68d76be049",
   "metadata": {},
   "outputs": [],
   "source": [
    "fname = \"uv.lock\"\n",
    "is_package = False\n",
    "is_skl = False\n",
    "with open(fname, 'r') as f:\n",
    "    for line in f:\n",
    "        if line.startswith(\"[[package]]\"):\n",
    "            is_package = True\n",
    "        if line.startswith('name = \"scikit-learn\"'):\n",
    "            is_skl = True\n",
    "        if is_package and is_skl and \"hash\" in line:\n",
    "            hash_line = line\n",
    "            break"
   ]
  },
  {
   "cell_type": "code",
   "execution_count": 26,
   "id": "53fe8d8a-9ded-4159-8323-934882535bbd",
   "metadata": {},
   "outputs": [
    {
     "name": "stdout",
     "output_type": "stream",
     "text": [
      "The first hash value for the scikit-learn 1.6.1 package = \u001b[1msha256:b4fc2525eca2c69a59260f583c56a7557c6ccdf8deafdba6e060f94c1c59738e\n"
     ]
    }
   ],
   "source": [
    "match = re.search(r\"hash = (.*?)(?:,|$)\", hash_line)\n",
    "hash_str = match.group(1).strip().replace('\"', '')\n",
    "print(f\"The first hash value for the scikit-learn 1.6.1 package = {BOLD}{hash_str}\")"
   ]
  },
  {
   "cell_type": "markdown",
   "id": "598b912c-5c66-4d24-8619-afc147f4bc6d",
   "metadata": {},
   "source": [
    "### 3. Load model and score record\n",
    "1. Write a script for loading the pipeline with pickle\n",
    "2. Score this record: {\n",
    "    \"lead_source\": \"paid_ads\",\n",
    "    \"number_of_courses_viewed\": 2,\n",
    "    \"annual_income\": 79276.0\n",
    "}\n",
    "\n",
    "What's the probability that this lead will convert?"
   ]
  },
  {
   "cell_type": "code",
   "execution_count": null,
   "id": "226c3064-9e03-4982-be53-402f9de248aa",
   "metadata": {},
   "outputs": [],
   "source": []
  }
 ],
 "metadata": {
  "kernelspec": {
   "display_name": "Python 3 (ipykernel)",
   "language": "python",
   "name": "python3"
  },
  "language_info": {
   "codemirror_mode": {
    "name": "ipython",
    "version": 3
   },
   "file_extension": ".py",
   "mimetype": "text/x-python",
   "name": "python",
   "nbconvert_exporter": "python",
   "pygments_lexer": "ipython3",
   "version": "3.12.1"
  }
 },
 "nbformat": 4,
 "nbformat_minor": 5
}
