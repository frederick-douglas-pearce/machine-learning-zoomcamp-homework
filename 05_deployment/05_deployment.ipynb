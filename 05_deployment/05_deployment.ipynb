{
 "cells": [
  {
   "cell_type": "markdown",
   "id": "124f4d5c-b1c9-4d66-9c36-37df4ca34192",
   "metadata": {},
   "source": [
    "## Homework 5\n",
    "This notebook contains the solutions for the fifth homework assignment of the Machine Learning Zoomcamp 2025 course, which can be viewed on github with the following [link](https://github.com/DataTalksClub/machine-learning-zoomcamp/blob/master/cohorts/2025/05-evaluation/homework.md). The final solutions notebook is submitted for grading at the following [link](https://courses.datatalks.club/ml-zoomcamp-2025/homework/hw05).\n",
    "### Setup\n",
    "- Install `uv`: `pip install uv`\n",
    "- May need to create a virtual environment in `uv`: `uv init`\n",
    "- Use the following command in a terminal to launch the notebook from the `uv` virtual environment: `uv run --with jupyter jupyter lab`"
   ]
  },
  {
   "cell_type": "code",
   "execution_count": 9,
   "id": "e5c59e2b-145d-4439-a0f6-e53d255ad1a2",
   "metadata": {},
   "outputs": [
    {
     "name": "stdout",
     "output_type": "stream",
     "text": [
      "\u001b[2mResolved \u001b[1m6 packages\u001b[0m \u001b[2min 0.56ms\u001b[0m\u001b[0m\n",
      "\u001b[2K\u001b[2mInstalled \u001b[1m5 packages\u001b[0m \u001b[2min 4.21s\u001b[0m\u001b[0m                               \u001b[0m\n",
      " \u001b[32m+\u001b[39m \u001b[1mjoblib\u001b[0m\u001b[2m==1.5.2\u001b[0m\n",
      " \u001b[32m+\u001b[39m \u001b[1mnumpy\u001b[0m\u001b[2m==2.3.4\u001b[0m\n",
      " \u001b[32m+\u001b[39m \u001b[1mscikit-learn\u001b[0m\u001b[2m==1.6.1\u001b[0m\n",
      " \u001b[32m+\u001b[39m \u001b[1mscipy\u001b[0m\u001b[2m==1.16.2\u001b[0m\n",
      " \u001b[32m+\u001b[39m \u001b[1mthreadpoolctl\u001b[0m\u001b[2m==3.6.0\u001b[0m\n"
     ]
    }
   ],
   "source": [
    "# Add packages to the `uv` project with the --active flag so they're available in the notebook\n",
    "!uv add --active \"scikit-learn==1.6.1\""
   ]
  },
  {
   "cell_type": "code",
   "execution_count": 10,
   "id": "c6f7f6fa-dc7d-4dce-b445-2a39bbdc59e4",
   "metadata": {},
   "outputs": [],
   "source": [
    "import pickle\n",
    "import re\n",
    "import sklearn"
   ]
  },
  {
   "cell_type": "code",
   "execution_count": 2,
   "id": "99135bde-3b48-4833-8532-2b3f8710ab67",
   "metadata": {},
   "outputs": [],
   "source": [
    "BOLD = \"\\033[1m\""
   ]
  },
  {
   "cell_type": "markdown",
   "id": "3464f4f4-2640-4057-b13b-4143571f4af0",
   "metadata": {},
   "source": [
    "### Q1. `uv` version\n",
    "1. Install uv\n",
    "2. Use --version to find which version of `uv` was installed\n",
    "\n",
    "What's the version of uv?"
   ]
  },
  {
   "cell_type": "code",
   "execution_count": 3,
   "id": "e324d653-89d3-4d7c-9d5c-2f5b05296823",
   "metadata": {},
   "outputs": [
    {
     "name": "stdout",
     "output_type": "stream",
     "text": [
      "The `uv` version = \u001b[1m0.9.5\n"
     ]
    }
   ],
   "source": [
    "uv_version_cl = !uv --version\n",
    "uv_version = uv_version_cl[0].split()[1]\n",
    "print(f\"The `uv` version = {BOLD}{uv_version}\")"
   ]
  },
  {
   "cell_type": "markdown",
   "id": "7a4d6c66-f860-4b4e-aab0-c0e891133189",
   "metadata": {},
   "source": [
    "### Q2. Use `uv` to install Scikit-Learn\n",
    "Use `uv` to install Scikit-Learn version 1.6.1.\n",
    "\n",
    "What's the first hash for Scikit-Learn you get in the lock file?\n",
    "* Include the entire string starting with sha256\n",
    "* Don't include quotes\n",
    "\n",
    "In terminal, create uv project: `uv init`. Then add required version of scikit-learn: `uv add \"scikit-learn==1.6.1\"`"
   ]
  },
  {
   "cell_type": "code",
   "execution_count": 4,
   "id": "cb4d8e77-ec00-4bea-9404-3f68d76be049",
   "metadata": {},
   "outputs": [],
   "source": [
    "fname = \"uv.lock\"\n",
    "is_package = False\n",
    "is_skl = False\n",
    "with open(fname, 'r') as f:\n",
    "    for line in f:\n",
    "        if line.startswith(\"[[package]]\"):\n",
    "            is_package = True\n",
    "        if line.startswith('name = \"scikit-learn\"'):\n",
    "            is_skl = True\n",
    "        if is_package and is_skl and \"hash\" in line:\n",
    "            hash_line = line\n",
    "            break"
   ]
  },
  {
   "cell_type": "code",
   "execution_count": 5,
   "id": "53fe8d8a-9ded-4159-8323-934882535bbd",
   "metadata": {},
   "outputs": [
    {
     "name": "stdout",
     "output_type": "stream",
     "text": [
      "The first hash value for the scikit-learn 1.6.1 package = \u001b[1msha256:b4fc2525eca2c69a59260f583c56a7557c6ccdf8deafdba6e060f94c1c59738e\n"
     ]
    }
   ],
   "source": [
    "match = re.search(r\"hash = (.*?)(?:,|$)\", hash_line)\n",
    "hash_str = match.group(1).strip().replace('\"', '')\n",
    "print(f\"The first hash value for the scikit-learn 1.6.1 package = {BOLD}{hash_str}\")"
   ]
  },
  {
   "cell_type": "markdown",
   "id": "598b912c-5c66-4d24-8619-afc147f4bc6d",
   "metadata": {},
   "source": [
    "### 3. Load model and score record\n",
    "1. Write a script for loading the pipeline with pickle\n",
    "2. Score this record: {\n",
    "    \"lead_source\": \"paid_ads\",\n",
    "    \"number_of_courses_viewed\": 2,\n",
    "    \"annual_income\": 79276.0\n",
    "}\n",
    "\n",
    "What's the probability that this lead will convert?"
   ]
  },
  {
   "cell_type": "code",
   "execution_count": null,
   "id": "aff792b1-6db7-49d1-a36f-ac7c8539f53a",
   "metadata": {},
   "outputs": [],
   "source": [
    "# Load model with the following command in terminal (only need to run once):\n",
    "# !wget https://github.com/DataTalksClub/machine-learning-zoomcamp/raw/refs/heads/master/cohorts/2025/05-deployment/pipeline_v1.bin"
   ]
  },
  {
   "cell_type": "code",
   "execution_count": 14,
   "id": "f7825237-8ad7-4a5e-8e61-856f816b152f",
   "metadata": {},
   "outputs": [],
   "source": [
    "customer = {\n",
    "    \"lead_source\": \"paid_ads\",\n",
    "    \"number_of_courses_viewed\": 2,\n",
    "    \"annual_income\": 79276.0\n",
    "}"
   ]
  },
  {
   "cell_type": "code",
   "execution_count": 12,
   "id": "52fd4bd9-3ee5-43f7-baee-28cf05caf9da",
   "metadata": {},
   "outputs": [],
   "source": [
    "model_file = \"pipeline_v1.bin\"\n",
    "with open(model_file, 'rb') as f_in:\n",
    "    pipeline = pickle.load(f_in)\n",
    "\n",
    "churn = pipeline.predict_proba(customer)[0, 1]"
   ]
  },
  {
   "cell_type": "code",
   "execution_count": 17,
   "id": "7b09ddab-56b4-441e-918e-9221db7bfff7",
   "metadata": {},
   "outputs": [
    {
     "name": "stdout",
     "output_type": "stream",
     "text": [
      "The probability that the customer will churn = \u001b[1m0.534\n"
     ]
    }
   ],
   "source": [
    "print(f\"The probability that the customer will churn = {BOLD}{round(churn, 3)}\")"
   ]
  },
  {
   "cell_type": "markdown",
   "id": "d085df03-2e42-42b2-8833-374171f23bad",
   "metadata": {},
   "source": [
    "### 4. Load model and score record\n"
   ]
  },
  {
   "cell_type": "code",
   "execution_count": null,
   "id": "53c9e8c9-7e58-4904-b5ca-bdd8bb5bab13",
   "metadata": {},
   "outputs": [],
   "source": []
  }
 ],
 "metadata": {
  "kernelspec": {
   "display_name": "Python 3 (ipykernel)",
   "language": "python",
   "name": "python3"
  },
  "language_info": {
   "codemirror_mode": {
    "name": "ipython",
    "version": 3
   },
   "file_extension": ".py",
   "mimetype": "text/x-python",
   "name": "python",
   "nbconvert_exporter": "python",
   "pygments_lexer": "ipython3",
   "version": "3.12.1"
  }
 },
 "nbformat": 4,
 "nbformat_minor": 5
}
