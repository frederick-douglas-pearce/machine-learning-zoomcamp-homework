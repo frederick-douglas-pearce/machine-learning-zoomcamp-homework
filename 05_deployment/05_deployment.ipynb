{
 "cells": [
  {
   "cell_type": "markdown",
   "id": "124f4d5c-b1c9-4d66-9c36-37df4ca34192",
   "metadata": {},
   "source": [
    "## Homework 5\n",
    "This notebook contains the solutions for the fifth homework assignment of the Machine Learning Zoomcamp 2025 course, which can be viewed on github with the following [link](https://github.com/DataTalksClub/machine-learning-zoomcamp/blob/master/cohorts/2025/05-evaluation/homework.md). The final solutions notebook is submitted for grading at the following [link](https://courses.datatalks.club/ml-zoomcamp-2025/homework/hw05).\n",
    "### Setup"
   ]
  },
  {
   "cell_type": "code",
   "execution_count": 4,
   "id": "99135bde-3b48-4833-8532-2b3f8710ab67",
   "metadata": {},
   "outputs": [],
   "source": [
    "BOLD = \"\\033[1m\""
   ]
  },
  {
   "cell_type": "markdown",
   "id": "3464f4f4-2640-4057-b13b-4143571f4af0",
   "metadata": {},
   "source": [
    "### Q1. `uv` version\n",
    "1. Install uv\n",
    "2. Use --version to find which version of `uv` was installed\n",
    "\n",
    "What's the version of uv?"
   ]
  },
  {
   "cell_type": "code",
   "execution_count": 11,
   "id": "e324d653-89d3-4d7c-9d5c-2f5b05296823",
   "metadata": {},
   "outputs": [
    {
     "name": "stdout",
     "output_type": "stream",
     "text": [
      "The `uv` version = \u001b[1m0.9.5\n"
     ]
    }
   ],
   "source": [
    "uv_version_cl = !uv --version\n",
    "uv_version = uv_version_cl[0].split()[1]\n",
    "print(f\"The `uv` version = {BOLD}{uv_version}\")"
   ]
  },
  {
   "cell_type": "code",
   "execution_count": null,
   "id": "58793491-da5a-49d3-90c2-570493f91142",
   "metadata": {},
   "outputs": [],
   "source": []
  }
 ],
 "metadata": {
  "kernelspec": {
   "display_name": "Python 3 (ipykernel)",
   "language": "python",
   "name": "python3"
  },
  "language_info": {
   "codemirror_mode": {
    "name": "ipython",
    "version": 3
   },
   "file_extension": ".py",
   "mimetype": "text/x-python",
   "name": "python",
   "nbconvert_exporter": "python",
   "pygments_lexer": "ipython3",
   "version": "3.12.1"
  }
 },
 "nbformat": 4,
 "nbformat_minor": 5
}
