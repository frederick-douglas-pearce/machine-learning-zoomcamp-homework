{
 "cells": [
  {
   "cell_type": "markdown",
   "id": "a1a55933-141c-4c54-90fe-bd7ad2be10df",
   "metadata": {},
   "source": [
    "## Homework 4\n",
    "This notebook contains the solutions for the fourth homework assignment of the Machine Learning Zoomcamp 2025 course, which can be viewed on github with the following [link](https://github.com/DataTalksClub/machine-learning-zoomcamp/blob/master/cohorts/2025/04-evaluation/homework.md). The final solutions notebook is submitted for grading at the following [link](https://courses.datatalks.club/ml-zoomcamp-2025/homework/hw04).\n",
    "### Setup"
   ]
  },
  {
   "cell_type": "code",
   "execution_count": 1,
   "id": "404a87fb-054f-4b05-9aa8-2b542a8719e8",
   "metadata": {},
   "outputs": [],
   "source": [
    "# Import packages\n",
    "import matplotlib.pyplot as plt\n",
    "import numpy as np\n",
    "import pandas as pd\n",
    "from sklearn.feature_extraction import DictVectorizer\n",
    "from sklearn.linear_model import LogisticRegression\n",
    "from sklearn.metrics import precision_score, recall_score, roc_auc_score, f1_score\n",
    "from sklearn.model_selection import KFold, train_test_split\n",
    "from sklearn.preprocessing import StandardScaler\n",
    "import seaborn as sns"
   ]
  },
  {
   "cell_type": "code",
   "execution_count": 2,
   "id": "25f94c0b-a6b5-4d29-895b-5a3aecc42290",
   "metadata": {},
   "outputs": [],
   "source": [
    "# Load the dataset from the following url\n",
    "url_path = \"https://raw.githubusercontent.com/alexeygrigorev/datasets/master/course_lead_scoring.csv\"\n",
    "target_col=\"converted\"\n",
    "# Prepend this string to final answers so they print as bold text\n",
    "BOLD = \"\\033[1m\""
   ]
  },
  {
   "cell_type": "code",
   "execution_count": 3,
   "id": "0ad71e07-d693-4dae-bc9d-0645af888807",
   "metadata": {},
   "outputs": [
    {
     "name": "stdout",
     "output_type": "stream",
     "text": [
      "<class 'pandas.core.frame.DataFrame'>\n",
      "RangeIndex: 1462 entries, 0 to 1461\n",
      "Data columns (total 9 columns):\n",
      " #   Column                    Non-Null Count  Dtype  \n",
      "---  ------                    --------------  -----  \n",
      " 0   lead_source               1334 non-null   object \n",
      " 1   industry                  1328 non-null   object \n",
      " 2   number_of_courses_viewed  1462 non-null   int64  \n",
      " 3   annual_income             1281 non-null   float64\n",
      " 4   employment_status         1362 non-null   object \n",
      " 5   location                  1399 non-null   object \n",
      " 6   interaction_count         1462 non-null   int64  \n",
      " 7   lead_score                1462 non-null   float64\n",
      " 8   converted                 1462 non-null   int64  \n",
      "dtypes: float64(2), int64(3), object(4)\n",
      "memory usage: 102.9+ KB\n"
     ]
    },
    {
     "data": {
      "text/html": [
       "<div>\n",
       "<style scoped>\n",
       "    .dataframe tbody tr th:only-of-type {\n",
       "        vertical-align: middle;\n",
       "    }\n",
       "\n",
       "    .dataframe tbody tr th {\n",
       "        vertical-align: top;\n",
       "    }\n",
       "\n",
       "    .dataframe thead th {\n",
       "        text-align: right;\n",
       "    }\n",
       "</style>\n",
       "<table border=\"1\" class=\"dataframe\">\n",
       "  <thead>\n",
       "    <tr style=\"text-align: right;\">\n",
       "      <th></th>\n",
       "      <th>lead_source</th>\n",
       "      <th>industry</th>\n",
       "      <th>number_of_courses_viewed</th>\n",
       "      <th>annual_income</th>\n",
       "      <th>employment_status</th>\n",
       "      <th>location</th>\n",
       "      <th>interaction_count</th>\n",
       "      <th>lead_score</th>\n",
       "      <th>converted</th>\n",
       "    </tr>\n",
       "  </thead>\n",
       "  <tbody>\n",
       "    <tr>\n",
       "      <th>0</th>\n",
       "      <td>paid_ads</td>\n",
       "      <td>NaN</td>\n",
       "      <td>1</td>\n",
       "      <td>79450.0</td>\n",
       "      <td>unemployed</td>\n",
       "      <td>south_america</td>\n",
       "      <td>4</td>\n",
       "      <td>0.94</td>\n",
       "      <td>1</td>\n",
       "    </tr>\n",
       "    <tr>\n",
       "      <th>1</th>\n",
       "      <td>social_media</td>\n",
       "      <td>retail</td>\n",
       "      <td>1</td>\n",
       "      <td>46992.0</td>\n",
       "      <td>employed</td>\n",
       "      <td>south_america</td>\n",
       "      <td>1</td>\n",
       "      <td>0.80</td>\n",
       "      <td>0</td>\n",
       "    </tr>\n",
       "    <tr>\n",
       "      <th>2</th>\n",
       "      <td>events</td>\n",
       "      <td>healthcare</td>\n",
       "      <td>5</td>\n",
       "      <td>78796.0</td>\n",
       "      <td>unemployed</td>\n",
       "      <td>australia</td>\n",
       "      <td>3</td>\n",
       "      <td>0.69</td>\n",
       "      <td>1</td>\n",
       "    </tr>\n",
       "    <tr>\n",
       "      <th>3</th>\n",
       "      <td>paid_ads</td>\n",
       "      <td>retail</td>\n",
       "      <td>2</td>\n",
       "      <td>83843.0</td>\n",
       "      <td>NaN</td>\n",
       "      <td>australia</td>\n",
       "      <td>1</td>\n",
       "      <td>0.87</td>\n",
       "      <td>0</td>\n",
       "    </tr>\n",
       "    <tr>\n",
       "      <th>4</th>\n",
       "      <td>referral</td>\n",
       "      <td>education</td>\n",
       "      <td>3</td>\n",
       "      <td>85012.0</td>\n",
       "      <td>self_employed</td>\n",
       "      <td>europe</td>\n",
       "      <td>3</td>\n",
       "      <td>0.62</td>\n",
       "      <td>1</td>\n",
       "    </tr>\n",
       "    <tr>\n",
       "      <th>5</th>\n",
       "      <td>events</td>\n",
       "      <td>manufacturing</td>\n",
       "      <td>1</td>\n",
       "      <td>59904.0</td>\n",
       "      <td>NaN</td>\n",
       "      <td>africa</td>\n",
       "      <td>6</td>\n",
       "      <td>0.83</td>\n",
       "      <td>1</td>\n",
       "    </tr>\n",
       "    <tr>\n",
       "      <th>6</th>\n",
       "      <td>social_media</td>\n",
       "      <td>technology</td>\n",
       "      <td>0</td>\n",
       "      <td>51283.0</td>\n",
       "      <td>NaN</td>\n",
       "      <td>middle_east</td>\n",
       "      <td>2</td>\n",
       "      <td>0.57</td>\n",
       "      <td>0</td>\n",
       "    </tr>\n",
       "    <tr>\n",
       "      <th>7</th>\n",
       "      <td>social_media</td>\n",
       "      <td>NaN</td>\n",
       "      <td>5</td>\n",
       "      <td>62975.0</td>\n",
       "      <td>student</td>\n",
       "      <td>europe</td>\n",
       "      <td>4</td>\n",
       "      <td>0.62</td>\n",
       "      <td>1</td>\n",
       "    </tr>\n",
       "    <tr>\n",
       "      <th>8</th>\n",
       "      <td>referral</td>\n",
       "      <td>healthcare</td>\n",
       "      <td>4</td>\n",
       "      <td>38648.0</td>\n",
       "      <td>unemployed</td>\n",
       "      <td>south_america</td>\n",
       "      <td>2</td>\n",
       "      <td>0.86</td>\n",
       "      <td>1</td>\n",
       "    </tr>\n",
       "    <tr>\n",
       "      <th>9</th>\n",
       "      <td>paid_ads</td>\n",
       "      <td>other</td>\n",
       "      <td>3</td>\n",
       "      <td>59866.0</td>\n",
       "      <td>student</td>\n",
       "      <td>australia</td>\n",
       "      <td>3</td>\n",
       "      <td>0.43</td>\n",
       "      <td>1</td>\n",
       "    </tr>\n",
       "  </tbody>\n",
       "</table>\n",
       "</div>"
      ],
      "text/plain": [
       "    lead_source       industry  number_of_courses_viewed  annual_income  \\\n",
       "0      paid_ads            NaN                         1        79450.0   \n",
       "1  social_media         retail                         1        46992.0   \n",
       "2        events     healthcare                         5        78796.0   \n",
       "3      paid_ads         retail                         2        83843.0   \n",
       "4      referral      education                         3        85012.0   \n",
       "5        events  manufacturing                         1        59904.0   \n",
       "6  social_media     technology                         0        51283.0   \n",
       "7  social_media            NaN                         5        62975.0   \n",
       "8      referral     healthcare                         4        38648.0   \n",
       "9      paid_ads          other                         3        59866.0   \n",
       "\n",
       "  employment_status       location  interaction_count  lead_score  converted  \n",
       "0        unemployed  south_america                  4        0.94          1  \n",
       "1          employed  south_america                  1        0.80          0  \n",
       "2        unemployed      australia                  3        0.69          1  \n",
       "3               NaN      australia                  1        0.87          0  \n",
       "4     self_employed         europe                  3        0.62          1  \n",
       "5               NaN         africa                  6        0.83          1  \n",
       "6               NaN    middle_east                  2        0.57          0  \n",
       "7           student         europe                  4        0.62          1  \n",
       "8        unemployed  south_america                  2        0.86          1  \n",
       "9           student      australia                  3        0.43          1  "
      ]
     },
     "execution_count": 3,
     "metadata": {},
     "output_type": "execute_result"
    }
   ],
   "source": [
    "# Load data and inspect it\n",
    "cls_df = pd.read_csv(url_path)\n",
    "cls_df.info()\n",
    "cls_df.head(10)"
   ]
  },
  {
   "cell_type": "markdown",
   "id": "8015ee4b-6e11-475b-91cd-6ea23b9d1019",
   "metadata": {},
   "source": [
    "#### Preprocessing"
   ]
  },
  {
   "cell_type": "code",
   "execution_count": 4,
   "id": "1ff00ce1-ec8f-418b-91a9-35303d400f7e",
   "metadata": {},
   "outputs": [
    {
     "name": "stdout",
     "output_type": "stream",
     "text": [
      "Categorical columns = ['lead_source', 'industry', 'employment_status', 'location']\n",
      "\n",
      "Numerical columns = ['number_of_courses_viewed', 'annual_income', 'interaction_count', 'lead_score']\n",
      "\n",
      "<class 'pandas.core.frame.DataFrame'>\n",
      "RangeIndex: 1462 entries, 0 to 1461\n",
      "Data columns (total 9 columns):\n",
      " #   Column                    Non-Null Count  Dtype  \n",
      "---  ------                    --------------  -----  \n",
      " 0   lead_source               1462 non-null   object \n",
      " 1   industry                  1462 non-null   object \n",
      " 2   number_of_courses_viewed  1462 non-null   int64  \n",
      " 3   annual_income             1281 non-null   float64\n",
      " 4   employment_status         1462 non-null   object \n",
      " 5   location                  1462 non-null   object \n",
      " 6   interaction_count         1462 non-null   int64  \n",
      " 7   lead_score                1462 non-null   float64\n",
      " 8   converted                 1462 non-null   int64  \n",
      "dtypes: float64(2), int64(3), object(4)\n",
      "memory usage: 102.9+ KB\n"
     ]
    }
   ],
   "source": [
    "# Replace missing values for categorical features with \"NA\"\n",
    "categorical_cols = list(cls_df.dtypes[cls_df.dtypes == \"object\"].index)\n",
    "numeric_cols = [cn for cn in cls_df.columns if cn not in categorical_cols and cn != target_col]\n",
    "print(f\"Categorical columns = {categorical_cols}\\n\")\n",
    "print(f\"Numerical columns = {numeric_cols}\\n\")\n",
    "cls_df[categorical_cols] = cls_df[categorical_cols].fillna(\"NA\")\n",
    "cls_df.info()"
   ]
  },
  {
   "cell_type": "code",
   "execution_count": 5,
   "id": "38746104-e9e9-4624-8a12-dff48a544390",
   "metadata": {},
   "outputs": [
    {
     "name": "stdout",
     "output_type": "stream",
     "text": [
      "<class 'pandas.core.frame.DataFrame'>\n",
      "RangeIndex: 1462 entries, 0 to 1461\n",
      "Data columns (total 9 columns):\n",
      " #   Column                    Non-Null Count  Dtype  \n",
      "---  ------                    --------------  -----  \n",
      " 0   lead_source               1462 non-null   object \n",
      " 1   industry                  1462 non-null   object \n",
      " 2   number_of_courses_viewed  1462 non-null   int64  \n",
      " 3   annual_income             1462 non-null   float64\n",
      " 4   employment_status         1462 non-null   object \n",
      " 5   location                  1462 non-null   object \n",
      " 6   interaction_count         1462 non-null   int64  \n",
      " 7   lead_score                1462 non-null   float64\n",
      " 8   converted                 1462 non-null   int64  \n",
      "dtypes: float64(2), int64(3), object(4)\n",
      "memory usage: 102.9+ KB\n"
     ]
    }
   ],
   "source": [
    "# Replace missing values in 'annual_income column with zeros\n",
    "cls_df[numeric_cols] = cls_df[numeric_cols].fillna(0)\n",
    "cls_df.info()"
   ]
  },
  {
   "cell_type": "markdown",
   "id": "787d0f65-d4a9-4adf-90d5-1e75a65dfcbe",
   "metadata": {},
   "source": [
    "#### EDA\n",
    "The target variable is reasonably balanced with about 62% positive and 38% negative."
   ]
  },
  {
   "cell_type": "code",
   "execution_count": 6,
   "id": "95c6230f-db80-48bd-9be8-dc8b4591c98f",
   "metadata": {},
   "outputs": [
    {
     "data": {
      "text/plain": [
       "converted\n",
       "1    0.619015\n",
       "0    0.380985\n",
       "Name: proportion, dtype: float64"
      ]
     },
     "execution_count": 6,
     "metadata": {},
     "output_type": "execute_result"
    }
   ],
   "source": [
    "cls_df[target_col].value_counts(dropna=False, normalize=True)"
   ]
  },
  {
   "cell_type": "code",
   "execution_count": 7,
   "id": "c2380a87-1198-4b7b-9b2d-74e550899337",
   "metadata": {},
   "outputs": [
    {
     "data": {
      "text/plain": [
       "<Axes: xlabel='converted', ylabel='Count'>"
      ]
     },
     "execution_count": 7,
     "metadata": {},
     "output_type": "execute_result"
    },
    {
     "data": {
      "image/png": "[encoded data removed]",
      "text/plain": [
       "<Figure size 640x480 with 1 Axes>"
      ]
     },
     "metadata": {},
     "output_type": "display_data"
    }
   ],
   "source": [
    "sns.histplot(cls_df[target_col], bins=50)"
   ]
  },
  {
   "cell_type": "markdown",
   "id": "f51d5da8-1b4a-4f27-95e2-1f77b1a74fba",
   "metadata": {},
   "source": [
    "#### Define functions"
   ]
  },
  {
   "cell_type": "code",
   "execution_count": 8,
   "id": "8502dc4f-d9c2-4aa7-adcd-eb9b9870674a",
   "metadata": {},
   "outputs": [],
   "source": [
    "# Split the dataset\n",
    "def split_train_val_test(df, val_ratio=.2, test_ratio=.2, r_seed=1, verbose=False):\n",
    "    \"\"\"Use the train_test_split function from sklearn to split input dataframe\n",
    "    into randomly shuffled train, validation, and test datasets with the\n",
    "    validation dataset containing val_ratio of the input data and the test\n",
    "    dataset containing test_ratio of the input data.\n",
    "    \"\"\"\n",
    "    n = len(df)\n",
    "    # Generate test dataset\n",
    "    full_train_df, test_df = train_test_split(df, test_size=test_ratio, random_state=r_seed)\n",
    "    test_df = test_df.reset_index(drop=True)\n",
    "    # Generate train, validation, and test splits\n",
    "    val_ft_ratio = val_ratio / (1 - test_ratio)\n",
    "    train_df, val_df = train_test_split(full_train_df, test_size=val_ft_ratio, random_state=r_seed)\n",
    "    train_df = train_df.reset_index(drop=True)\n",
    "    val_df = val_df.reset_index(drop=True)\n",
    "    if verbose:\n",
    "        print(f\"All rows in the original dataframe are contained within the training, validation, or test datasets: {len(train_df) + len(val_df) + len(test_df) == len(df)}\")\n",
    "    return train_df, val_df, test_df\n",
    "\n",
    "def split_full_train_test(df, test_ratio=.2, r_seed=1, verbose=False):\n",
    "    \"\"\"Use the train_test_split function from sklearn to split input dataframe\n",
    "    into randomly shuffled train, validation, and test datasets with the\n",
    "    validation dataset containing val_ratio of the input data and the test\n",
    "    dataset containing test_ratio of the input data.\n",
    "    \"\"\"\n",
    "    n = len(df)\n",
    "    # Generate test dataset\n",
    "    full_train_df, test_df = train_test_split(df, test_size=test_ratio, random_state=r_seed)\n",
    "    test_df = test_df.reset_index(drop=True)\n",
    "    full_train_df = full_train_df.reset_index(drop=True)\n",
    "    if verbose:\n",
    "        print(f\"All rows in the original dataframe are contained within the training, validation, or test datasets: {len(full_train_df) + len(test_df) == len(df)}\")\n",
    "    return full_train_df, test_df\n",
    "    \n",
    "# Prepare X and y\n",
    "def prepare_X_y(df_list, target_col=\"converted\", scale_num_cols=False, verbose=False, labels=[\" training \"]):\n",
    "    \"\"\"Create target vector, y, and feature matrix, X, from input list of\n",
    "    dataframes, df_list. Use one-hot encoding to transform categorical variables.\n",
    "    A training dataframe must be input to train the encoders and it must\n",
    "    correspond to a label in the input list, labels, that contains the word\n",
    "    \"train\". Numerical columns are scaled using the StandardScaler if the\n",
    "    parameter, scale_num_cols, contains a list of numeric columns. The\n",
    "    validation and test dataframes are optional and they will be encoded based\n",
    "    on a fit to the training dataframe.\n",
    "    \"\"\"\n",
    "    X_list = []\n",
    "    y_list = []\n",
    "    for ind, df in enumerate(df_list):\n",
    "        # print(ind, df)\n",
    "        df = df.copy()\n",
    "        y_tmp = df[target_col].values\n",
    "        tmp_dicts = df.drop(columns=target_col).to_dict(orient=\"records\")\n",
    "        if \"training\" in labels[ind]:\n",
    "            dv = DictVectorizer(sparse=False)\n",
    "            X_tmp = dv.fit_transform(tmp_dicts)\n",
    "            X_names = dv.get_feature_names_out().astype(str)\n",
    "            if scale_num_cols:\n",
    "                X_num_cols = np.isin(X_names, scale_num_cols)\n",
    "                scaler = StandardScaler()\n",
    "                X_tmp[:, X_num_cols] = scaler.fit_transform(X_tmp[:, X_num_cols])\n",
    "        else:\n",
    "            X_tmp = dv.transform(tmp_dicts)\n",
    "            if scale_num_cols:\n",
    "                X_tmp[:, X_num_cols] = scaler.fit_transform(X_tmp[:, X_num_cols])\n",
    "        if verbose:\n",
    "            if len(labels) != len(df_list):\n",
    "                labels = labels * len(df_list)\n",
    "            print(f\"All {len(df)} rows in the{labels[ind]}dataframe are contained within X and y: {len(X_tmp) == len(y_tmp) == len(df)}\\n\")\n",
    "        X_list.append(X_tmp)\n",
    "        y_list.append(y_tmp)\n",
    "    return X_list, y_list, X_names\n",
    "\n",
    "def evaluate_feature_roc_auc(y, feature_vals):\n",
    "    return roc_auc_score(y, feature_vals)\n",
    "\n",
    "def train_logistic_reg_model(X_train, y_train, C=1.0):\n",
    "    model = LogisticRegression(solver='liblinear', C=C, max_iter=1000)\n",
    "    # print(model.get_params())\n",
    "    model.fit(X_train, y_train)\n",
    "    return model\n",
    "\n",
    "def predict_y(model, X, y_type=None, threshold=0.5):\n",
    "    y_proba = model.predict_proba(X)[:, 1]\n",
    "    if y_type == \"proba\":\n",
    "        print(\"Returning y probabilities\")\n",
    "        return y_proba\n",
    "    else:\n",
    "        print(\"Returning y class values\")\n",
    "        return (y_proba >= threshold).astype(int)\n",
    "\n",
    "def evaluate_classifier(y, y_pred, eval_type):\n",
    "    if eval_type == \"accuracy\":\n",
    "        return (y == y_pred).mean()\n",
    "    elif eval_type == \"roc_auc\":\n",
    "        return roc_auc_score(y, y_pred)\n",
    "    elif eval_type == \"precision\":\n",
    "        return precision_score(y, y_pred, zero_division=1)\n",
    "    elif eval_type == \"recall\":\n",
    "        return recall_score(y, y_pred)\n",
    "    elif eval_type == \"f1_score\":\n",
    "        return f1_score(y, y_pred)\n",
    "    else:\n",
    "        print(f\"Input evaluation type, {eval_type}, not recognized: Returning None\")\n"
   ]
  },
  {
   "cell_type": "markdown",
   "id": "14b294bf-da8d-4fa3-8637-c3c405dff663",
   "metadata": {},
   "source": [
    "### Split the data into train, validation, and test datasets\n",
    "1. Split the data in train/val/test sets with 60%/20%/20% distribution\n",
    "2. Use Scikit-Learn for splitting (the train_test_split function) and set the seed to 1\n",
    "\n",
    "Make sure that the target value y is not in your dataframe."
   ]
  },
  {
   "cell_type": "code",
   "execution_count": 9,
   "id": "3ec2db8e-3f87-498e-a461-bb84edc0b9a7",
   "metadata": {},
   "outputs": [
    {
     "name": "stdout",
     "output_type": "stream",
     "text": [
      "All rows in the original dataframe are contained within the training, validation, or test datasets: True\n"
     ]
    }
   ],
   "source": [
    "train_df, val_df, test_df = split_train_val_test(cls_df, verbose=True)"
   ]
  },
  {
   "cell_type": "markdown",
   "id": "36a1ba8f-ce4a-4346-8e6a-ce2ac6c2877a",
   "metadata": {},
   "source": [
    "### Q1. ROC AUC feature importance\n",
    "Use ROC AUC to evaluate feature importance of numerical variables\n",
    "1. For each numerical variable, use it as score (aka prediction) and compute the AUC with the y variable as ground truth\n",
    "2. Use the training dataset\n",
    "3. If your AUC is < 0.5, invert feature variable by putting \"-\" in front (e.g. -df_train['balance'])\n",
    "\n",
    "Which numerical variable (among the following 4) has the highest AUC?\n",
    "1. lead_score\n",
    "2. number_of_courses_viewed\n",
    "3. interaction_count\n",
    "4. annual_income"
   ]
  },
  {
   "cell_type": "code",
   "execution_count": 10,
   "id": "d7cfa1d7-753a-45c5-afeb-200d9547ea49",
   "metadata": {},
   "outputs": [
    {
     "data": {
      "text/html": [
       "<div>\n",
       "<style scoped>\n",
       "    .dataframe tbody tr th:only-of-type {\n",
       "        vertical-align: middle;\n",
       "    }\n",
       "\n",
       "    .dataframe tbody tr th {\n",
       "        vertical-align: top;\n",
       "    }\n",
       "\n",
       "    .dataframe thead th {\n",
       "        text-align: right;\n",
       "    }\n",
       "</style>\n",
       "<table border=\"1\" class=\"dataframe\">\n",
       "  <thead>\n",
       "    <tr style=\"text-align: right;\">\n",
       "      <th></th>\n",
       "      <th>roc_auc</th>\n",
       "    </tr>\n",
       "  </thead>\n",
       "  <tbody>\n",
       "    <tr>\n",
       "      <th>lead_score</th>\n",
       "      <td>0.614499</td>\n",
       "    </tr>\n",
       "    <tr>\n",
       "      <th>number_of_courses_viewed</th>\n",
       "      <td>0.763568</td>\n",
       "    </tr>\n",
       "    <tr>\n",
       "      <th>interaction_count</th>\n",
       "      <td>0.738270</td>\n",
       "    </tr>\n",
       "    <tr>\n",
       "      <th>annual_income</th>\n",
       "      <td>0.551958</td>\n",
       "    </tr>\n",
       "  </tbody>\n",
       "</table>\n",
       "</div>"
      ],
      "text/plain": [
       "                           roc_auc\n",
       "lead_score                0.614499\n",
       "number_of_courses_viewed  0.763568\n",
       "interaction_count         0.738270\n",
       "annual_income             0.551958"
      ]
     },
     "execution_count": 10,
     "metadata": {},
     "output_type": "execute_result"
    }
   ],
   "source": [
    "cols_to_score = ['lead_score', 'number_of_courses_viewed', 'interaction_count', 'annual_income']\n",
    "roc_auc_scores = {}\n",
    "for c in cols_to_score:\n",
    "    score = evaluate_feature_roc_auc(train_df[target_col].values, train_df[c])\n",
    "    roc_auc_scores[c] = [score]\n",
    "roc_auc_by_feat = pd.DataFrame.from_dict(roc_auc_scores, orient='index', columns=['roc_auc'])\n",
    "roc_auc_by_feat"
   ]
  },
  {
   "cell_type": "code",
   "execution_count": 11,
   "id": "51f06111-0552-49c3-87c8-de99a3dfb7a5",
   "metadata": {},
   "outputs": [
    {
     "name": "stdout",
     "output_type": "stream",
     "text": [
      "The feature with the highest ROC AUC = \u001b[1mnumber_of_courses_viewed\n"
     ]
    }
   ],
   "source": [
    "print(f\"The feature with the highest ROC AUC = {BOLD}{roc_auc_by_feat['roc_auc'].idxmax()}\")"
   ]
  },
  {
   "cell_type": "markdown",
   "id": "e950a309-c9d3-4eed-88f3-1fb18b59bee4",
   "metadata": {},
   "source": [
    "### Q2. ROC AUC score on validation dataset\n",
    "1. Apply one-hot-encoding using DictVectorizer\n",
    "2. Train the logistic regression with these parameters: `LogisticRegression(solver='liblinear', C=1.0, max_iter=1000)`\n",
    "\n",
    "What's the AUC of this model on the validation dataset? (round to 3 digits)"
   ]
  },
  {
   "cell_type": "code",
   "execution_count": 12,
   "id": "5bbb35fd-30fa-4207-8277-31df28b172bc",
   "metadata": {},
   "outputs": [
    {
     "name": "stdout",
     "output_type": "stream",
     "text": [
      "All 876 rows in the training dataframe are contained within X and y: True\n",
      "\n",
      "All 293 rows in the validation dataframe are contained within X and y: True\n",
      "\n",
      "['annual_income' 'employment_status=NA' 'employment_status=employed'\n",
      " 'employment_status=self_employed' 'employment_status=student'\n",
      " 'employment_status=unemployed' 'industry=NA' 'industry=education'\n",
      " 'industry=finance' 'industry=healthcare' 'industry=manufacturing'\n",
      " 'industry=other' 'industry=retail' 'industry=technology'\n",
      " 'interaction_count' 'lead_score' 'lead_source=NA' 'lead_source=events'\n",
      " 'lead_source=organic_search' 'lead_source=paid_ads'\n",
      " 'lead_source=referral' 'lead_source=social_media' 'location=NA'\n",
      " 'location=africa' 'location=asia' 'location=australia' 'location=europe'\n",
      " 'location=middle_east' 'location=north_america' 'location=south_america'\n",
      " 'number_of_courses_viewed']\n"
     ]
    }
   ],
   "source": [
    "(X_train, X_val), (y_train, y_val), X_names = prepare_X_y([train_df, val_df], scale_num_cols=numeric_cols, verbose=True, labels=[\" training \", \" validation \"])\n",
    "print(X_names)"
   ]
  },
  {
   "cell_type": "code",
   "execution_count": 13,
   "id": "c5a57493-d054-494e-ae1c-a2ee542eabcf",
   "metadata": {},
   "outputs": [
    {
     "name": "stdout",
     "output_type": "stream",
     "text": [
      "Returning y probabilities\n"
     ]
    },
    {
     "data": {
      "text/plain": [
       "0.9202856868948327"
      ]
     },
     "execution_count": 13,
     "metadata": {},
     "output_type": "execute_result"
    }
   ],
   "source": [
    "model = train_logistic_reg_model(X_train, y_train)\n",
    "y_pred = predict_y(model, X_val, y_type=\"proba\")\n",
    "ra_score = evaluate_classifier(y_val, y_pred, \"roc_auc\")\n",
    "ra_score"
   ]
  },
  {
   "cell_type": "code",
   "execution_count": 14,
   "id": "48e9daeb-cf24-4543-b7ca-10a1ac768f4c",
   "metadata": {},
   "outputs": [
    {
     "name": "stdout",
     "output_type": "stream",
     "text": [
      "The ROC AUC score for the validation dataset = \u001b[1m0.92\n"
     ]
    }
   ],
   "source": [
    "print(f\"The ROC AUC score for the validation dataset = {BOLD}{round(ra_score, 3)}\")"
   ]
  },
  {
   "cell_type": "markdown",
   "id": "d9384408-0ea4-49cc-b874-956c750fbc2c",
   "metadata": {},
   "source": [
    "### Q3. Precision and Recall\n",
    "Now let's compute precision and recall for our model.\n",
    "1. Evaluate the model on all thresholds from 0.0 to 1.0 with step 0.01\n",
    "2. For each threshold, compute precision and recall and plot them\n",
    "\n",
    "At which threshold precision and recall curves intersect?"
   ]
  },
  {
   "cell_type": "code",
   "execution_count": 15,
   "id": "fcde67b2-49e7-4042-b173-3d92d5c176b7",
   "metadata": {},
   "outputs": [
    {
     "name": "stdout",
     "output_type": "stream",
     "text": [
      "Returning y class values\n",
      "Returning y class values\n",
      "Returning y class values\n",
      "Returning y class values\n",
      "Returning y class values\n",
      "Returning y class values\n",
      "Returning y class values\n",
      "Returning y class values\n",
      "Returning y class values\n",
      "Returning y class values\n",
      "Returning y class values\n",
      "Returning y class values\n",
      "Returning y class values\n",
      "Returning y class values\n",
      "Returning y class values\n",
      "Returning y class values\n",
      "Returning y class values\n",
      "Returning y class values\n",
      "Returning y class values\n",
      "Returning y class values\n",
      "Returning y class values\n",
      "Returning y class values\n",
      "Returning y class values\n",
      "Returning y class values\n",
      "Returning y class values\n",
      "Returning y class values\n",
      "Returning y class values\n",
      "Returning y class values\n",
      "Returning y class values\n",
      "Returning y class values\n",
      "Returning y class values\n",
      "Returning y class values\n",
      "Returning y class values\n",
      "Returning y class values\n",
      "Returning y class values\n",
      "Returning y class values\n",
      "Returning y class values\n",
      "Returning y class values\n",
      "Returning y class values\n",
      "Returning y class values\n",
      "Returning y class values\n",
      "Returning y class values\n",
      "Returning y class values\n",
      "Returning y class values\n",
      "Returning y class values\n",
      "Returning y class values\n",
      "Returning y class values\n",
      "Returning y class values\n",
      "Returning y class values\n",
      "Returning y class values\n",
      "Returning y class values\n",
      "Returning y class values\n",
      "Returning y class values\n",
      "Returning y class values\n",
      "Returning y class values\n",
      "Returning y class values\n",
      "Returning y class values\n",
      "Returning y class values\n",
      "Returning y class values\n",
      "Returning y class values\n",
      "Returning y class values\n",
      "Returning y class values\n",
      "Returning y class values\n",
      "Returning y class values\n",
      "Returning y class values\n",
      "Returning y class values\n",
      "Returning y class values\n",
      "Returning y class values\n",
      "Returning y class values\n",
      "Returning y class values\n",
      "Returning y class values\n",
      "Returning y class values\n",
      "Returning y class values\n",
      "Returning y class values\n",
      "Returning y class values\n",
      "Returning y class values\n",
      "Returning y class values\n",
      "Returning y class values\n",
      "Returning y class values\n",
      "Returning y class values\n",
      "Returning y class values\n",
      "Returning y class values\n",
      "Returning y class values\n",
      "Returning y class values\n",
      "Returning y class values\n",
      "Returning y class values\n",
      "Returning y class values\n",
      "Returning y class values\n",
      "Returning y class values\n",
      "Returning y class values\n",
      "Returning y class values\n",
      "Returning y class values\n",
      "Returning y class values\n",
      "Returning y class values\n",
      "Returning y class values\n",
      "Returning y class values\n",
      "Returning y class values\n",
      "Returning y class values\n",
      "Returning y class values\n",
      "Returning y class values\n"
     ]
    }
   ],
   "source": [
    "model = train_logistic_reg_model(X_train, y_train)\n",
    "\n",
    "threshold_values = np.arange(0.0, 1.0, 0.01)\n",
    "t_p_r_scores = {}\n",
    "for t in threshold_values:\n",
    "    y_pred = predict_y(model, X_val, threshold=t)\n",
    "    p_score = evaluate_classifier(y_val, y_pred, \"precision\")\n",
    "    r_score = evaluate_classifier(y_val, y_pred, \"recall\")\n",
    "    f_score = evaluate_classifier(y_val, y_pred, \"f1_score\")\n",
    "    t_p_r_scores[t] = [p_score, r_score, f_score]\n",
    "scores_by_thresh = pd.DataFrame.from_dict(t_p_r_scores, orient='index', columns=['precision', 'recall', 'f1_score'])"
   ]
  },
  {
   "cell_type": "code",
   "execution_count": 16,
   "id": "cc98317a-4e02-4d37-9878-1842610845ec",
   "metadata": {},
   "outputs": [
    {
     "data": {
      "text/plain": [
       "[Text(0.5, 0, 'threshold')]"
      ]
     },
     "execution_count": 16,
     "metadata": {},
     "output_type": "execute_result"
    },
    {
     "data": {
      "image/png": "[encoded data removed]",
      "text/plain": [
       "<Figure size 640x480 with 1 Axes>"
      ]
     },
     "metadata": {},
     "output_type": "display_data"
    }
   ],
   "source": [
    "ax = sns.lineplot(x=scores_by_thresh.index, y=scores_by_thresh['precision'], color='b')\n",
    "sns.lineplot(x=scores_by_thresh.index, y=scores_by_thresh['recall'], color='r', ax=ax)\n",
    "ax.set(xlabel='threshold')"
   ]
  },
  {
   "cell_type": "code",
   "execution_count": 17,
   "id": "ea2c7893-a684-4b7d-b90b-5e2da84666c5",
   "metadata": {},
   "outputs": [
    {
     "data": {
      "text/html": [
       "<div>\n",
       "<style scoped>\n",
       "    .dataframe tbody tr th:only-of-type {\n",
       "        vertical-align: middle;\n",
       "    }\n",
       "\n",
       "    .dataframe tbody tr th {\n",
       "        vertical-align: top;\n",
       "    }\n",
       "\n",
       "    .dataframe thead th {\n",
       "        text-align: right;\n",
       "    }\n",
       "</style>\n",
       "<table border=\"1\" class=\"dataframe\">\n",
       "  <thead>\n",
       "    <tr style=\"text-align: right;\">\n",
       "      <th></th>\n",
       "      <th>precision</th>\n",
       "      <th>recall</th>\n",
       "      <th>f1_score</th>\n",
       "      <th>p_r_diff</th>\n",
       "    </tr>\n",
       "  </thead>\n",
       "  <tbody>\n",
       "    <tr>\n",
       "      <th>0.00</th>\n",
       "      <td>0.583618</td>\n",
       "      <td>1.000000</td>\n",
       "      <td>0.737069</td>\n",
       "      <td>0.416382</td>\n",
       "    </tr>\n",
       "    <tr>\n",
       "      <th>0.01</th>\n",
       "      <td>0.595819</td>\n",
       "      <td>1.000000</td>\n",
       "      <td>0.746725</td>\n",
       "      <td>0.404181</td>\n",
       "    </tr>\n",
       "    <tr>\n",
       "      <th>0.02</th>\n",
       "      <td>0.608541</td>\n",
       "      <td>1.000000</td>\n",
       "      <td>0.756637</td>\n",
       "      <td>0.391459</td>\n",
       "    </tr>\n",
       "    <tr>\n",
       "      <th>0.03</th>\n",
       "      <td>0.611511</td>\n",
       "      <td>0.994152</td>\n",
       "      <td>0.757238</td>\n",
       "      <td>0.382641</td>\n",
       "    </tr>\n",
       "    <tr>\n",
       "      <th>0.04</th>\n",
       "      <td>0.620438</td>\n",
       "      <td>0.994152</td>\n",
       "      <td>0.764045</td>\n",
       "      <td>0.373714</td>\n",
       "    </tr>\n",
       "    <tr>\n",
       "      <th>...</th>\n",
       "      <td>...</td>\n",
       "      <td>...</td>\n",
       "      <td>...</td>\n",
       "      <td>...</td>\n",
       "    </tr>\n",
       "    <tr>\n",
       "      <th>0.95</th>\n",
       "      <td>0.960000</td>\n",
       "      <td>0.421053</td>\n",
       "      <td>0.585366</td>\n",
       "      <td>0.538947</td>\n",
       "    </tr>\n",
       "    <tr>\n",
       "      <th>0.96</th>\n",
       "      <td>1.000000</td>\n",
       "      <td>0.374269</td>\n",
       "      <td>0.544681</td>\n",
       "      <td>0.625731</td>\n",
       "    </tr>\n",
       "    <tr>\n",
       "      <th>0.97</th>\n",
       "      <td>1.000000</td>\n",
       "      <td>0.345029</td>\n",
       "      <td>0.513043</td>\n",
       "      <td>0.654971</td>\n",
       "    </tr>\n",
       "    <tr>\n",
       "      <th>0.98</th>\n",
       "      <td>1.000000</td>\n",
       "      <td>0.286550</td>\n",
       "      <td>0.445455</td>\n",
       "      <td>0.713450</td>\n",
       "    </tr>\n",
       "    <tr>\n",
       "      <th>0.99</th>\n",
       "      <td>1.000000</td>\n",
       "      <td>0.228070</td>\n",
       "      <td>0.371429</td>\n",
       "      <td>0.771930</td>\n",
       "    </tr>\n",
       "  </tbody>\n",
       "</table>\n",
       "<p>100 rows × 4 columns</p>\n",
       "</div>"
      ],
      "text/plain": [
       "      precision    recall  f1_score  p_r_diff\n",
       "0.00   0.583618  1.000000  0.737069  0.416382\n",
       "0.01   0.595819  1.000000  0.746725  0.404181\n",
       "0.02   0.608541  1.000000  0.756637  0.391459\n",
       "0.03   0.611511  0.994152  0.757238  0.382641\n",
       "0.04   0.620438  0.994152  0.764045  0.373714\n",
       "...         ...       ...       ...       ...\n",
       "0.95   0.960000  0.421053  0.585366  0.538947\n",
       "0.96   1.000000  0.374269  0.544681  0.625731\n",
       "0.97   1.000000  0.345029  0.513043  0.654971\n",
       "0.98   1.000000  0.286550  0.445455  0.713450\n",
       "0.99   1.000000  0.228070  0.371429  0.771930\n",
       "\n",
       "[100 rows x 4 columns]"
      ]
     },
     "execution_count": 17,
     "metadata": {},
     "output_type": "execute_result"
    }
   ],
   "source": [
    "# Find intersection of precision and recall\n",
    "scores_by_thresh['p_r_diff'] = abs(scores_by_thresh['precision'] - scores_by_thresh['recall'])\n",
    "scores_by_thresh"
   ]
  },
  {
   "cell_type": "code",
   "execution_count": 18,
   "id": "3e5f5754-7c75-4c61-be9b-c20e61ed40cd",
   "metadata": {},
   "outputs": [
    {
     "name": "stdout",
     "output_type": "stream",
     "text": [
      "The threshold where precision and recall interset = \u001b[1m0.53\n"
     ]
    }
   ],
   "source": [
    "print(f\"The threshold where precision and recall interset = {BOLD}{scores_by_thresh['p_r_diff'].idxmin()}\")"
   ]
  },
  {
   "cell_type": "markdown",
   "id": "9e8cdc15-a71a-47ff-9644-d22c6b97e517",
   "metadata": {},
   "source": [
    "### Q4. F1 score\n",
    "Precision and recall are conflicting - when one grows, the other goes down. That's why they are often combined into the F1 score - a metrics that takes into account both.\n",
    "1. Compute F1 for all thresholds from 0.0 to 1.0 with increment 0.01\n",
    "\n",
    "At which threshold F1 is maximal?"
   ]
  },
  {
   "cell_type": "code",
   "execution_count": 19,
   "id": "61db150d-39fa-47b4-a70e-b8d76f62a94b",
   "metadata": {},
   "outputs": [
    {
     "data": {
      "text/plain": [
       "[Text(0.5, 0, 'threshold')]"
      ]
     },
     "execution_count": 19,
     "metadata": {},
     "output_type": "execute_result"
    },
    {
     "data": {
      "image/png": "[encoded data removed]",
      "text/plain": [
       "<Figure size 640x480 with 1 Axes>"
      ]
     },
     "metadata": {},
     "output_type": "display_data"
    }
   ],
   "source": [
    "ax = sns.lineplot(x=scores_by_thresh.index, y=scores_by_thresh['f1_score'], color='b')\n",
    "ax.set(xlabel='threshold')"
   ]
  },
  {
   "cell_type": "code",
   "execution_count": 20,
   "id": "cc6aad6f-e75f-4a70-acef-3a079b2004e5",
   "metadata": {},
   "outputs": [
    {
     "name": "stdout",
     "output_type": "stream",
     "text": [
      "The threshold where precision and recall interset = \u001b[1m0.54\n"
     ]
    }
   ],
   "source": [
    "print(f\"The threshold where precision and recall interset = {BOLD}{round(scores_by_thresh['f1_score'].idxmax(), 3)}\")"
   ]
  },
  {
   "cell_type": "markdown",
   "id": "40629c29-42c5-419d-b8e9-7fc87818949b",
   "metadata": {},
   "source": [
    "### Q5. 5-Fold CV\n",
    "Use the KFold class from Scikit-Learn to evaluate our model on 5 different folds:\n",
    "`KFold(n_splits=5, shuffle=True, random_state=1)`\n",
    "1. Iterate over different folds of df_full_train\n",
    "2. Split the data into train and validation\n",
    "3. Train the model on train with these parameters: `LogisticRegression(solver='liblinear', C=1.0, max_iter=1000)`\n",
    "4. Use AUC to evaluate the model on validation\n",
    "\n",
    "How large is standard deviation of the scores across different folds?"
   ]
  },
  {
   "cell_type": "code",
   "execution_count": 21,
   "id": "74633647-9cee-47e8-9fbf-d7e2e9a35aec",
   "metadata": {},
   "outputs": [
    {
     "name": "stdout",
     "output_type": "stream",
     "text": [
      "All rows in the original dataframe are contained within the training, validation, or test datasets: True\n"
     ]
    }
   ],
   "source": [
    "full_train_df, test_df = split_full_train_test(cls_df, verbose=True)"
   ]
  },
  {
   "cell_type": "code",
   "execution_count": 22,
   "id": "8a902d33-1d0a-4d3f-acb5-8e9bc987589c",
   "metadata": {},
   "outputs": [
    {
     "name": "stdout",
     "output_type": "stream",
     "text": [
      "All 935 rows in the training dataframe are contained within X and y: True\n",
      "\n",
      "All 234 rows in the validation dataframe are contained within X and y: True\n",
      "\n",
      "Returning y probabilities\n",
      "All 935 rows in the training dataframe are contained within X and y: True\n",
      "\n",
      "All 234 rows in the validation dataframe are contained within X and y: True\n",
      "\n",
      "Returning y probabilities\n",
      "All 935 rows in the training dataframe are contained within X and y: True\n",
      "\n",
      "All 234 rows in the validation dataframe are contained within X and y: True\n",
      "\n",
      "Returning y probabilities\n",
      "All 935 rows in the training dataframe are contained within X and y: True\n",
      "\n",
      "All 234 rows in the validation dataframe are contained within X and y: True\n",
      "\n",
      "Returning y probabilities\n",
      "All 936 rows in the training dataframe are contained within X and y: True\n",
      "\n",
      "All 233 rows in the validation dataframe are contained within X and y: True\n",
      "\n",
      "Returning y probabilities\n"
     ]
    },
    {
     "data": {
      "text/plain": [
       "[0.9202709744658676,\n",
       " 0.9314254437407147,\n",
       " 0.9055438267260927,\n",
       " 0.9101805728518058,\n",
       " 0.9314347624206779]"
      ]
     },
     "execution_count": 22,
     "metadata": {},
     "output_type": "execute_result"
    }
   ],
   "source": [
    "kfold = KFold(n_splits=5, shuffle=True, random_state=1)\n",
    "\n",
    "kf_ra_score = []\n",
    "for train_idx, val_idx in kfold.split(full_train_df):\n",
    "    train_kf_df = full_train_df.iloc[train_idx]\n",
    "    val_kf_df = full_train_df.iloc[val_idx]\n",
    "\n",
    "    (X_train_kf, X_val_kf), (y_train_kf, y_val_kf), X_names = prepare_X_y([train_kf_df, val_kf_df], scale_num_cols=numeric_cols, verbose=True, labels=[\" training \", \" validation \"])\n",
    "\n",
    "    model = train_logistic_reg_model(X_train_kf, y_train_kf)\n",
    "    y_pred_kf = predict_y(model, X_val_kf, y_type=\"proba\")\n",
    "    ra_score = evaluate_classifier(y_val_kf, y_pred_kf, \"roc_auc\")\n",
    "    kf_ra_score.append(ra_score)\n",
    "kf_ra_score"
   ]
  },
  {
   "cell_type": "code",
   "execution_count": 23,
   "id": "683db632-84ed-40a3-8a9a-07cc57dcfb44",
   "metadata": {},
   "outputs": [
    {
     "name": "stdout",
     "output_type": "stream",
     "text": [
      "The standard deviation of the scores for different folds = \u001b[1m0.0106\n"
     ]
    }
   ],
   "source": [
    "print(f\"The standard deviation of the scores for different folds = {BOLD}{round(np.std(kf_ra_score), 4)}\")"
   ]
  },
  {
   "cell_type": "markdown",
   "id": "271d0c86-f134-4017-83c9-fd02588e5359",
   "metadata": {},
   "source": [
    "### Q6. Hyperparameter Tuning\n",
    "Now let's use 5-Fold cross-validation to find the best parameter C.\n",
    "1. Iterate over the following C values: [0.000001, 0.001, 1]\n",
    "2. Initialize KFold with the same parameters as previously\n",
    "3. Use these parameters for the model: `LogisticRegression(solver='liblinear', C=C, max_iter=1000)`\n",
    "4. Compute the mean score as well as the std (round the mean and std to 3 decimal digits)\n",
    "\n",
    "Which C leads to the best mean score?"
   ]
  },
  {
   "cell_type": "code",
   "execution_count": 24,
   "id": "81871b03-c2a3-4166-a3aa-68b12320ef39",
   "metadata": {},
   "outputs": [
    {
     "name": "stdout",
     "output_type": "stream",
     "text": [
      "All 935 rows in the training dataframe are contained within X and y: True\n",
      "\n",
      "All 234 rows in the validation dataframe are contained within X and y: True\n",
      "\n",
      "Returning y probabilities\n",
      "All 935 rows in the training dataframe are contained within X and y: True\n",
      "\n",
      "All 234 rows in the validation dataframe are contained within X and y: True\n",
      "\n",
      "Returning y probabilities\n",
      "All 935 rows in the training dataframe are contained within X and y: True\n",
      "\n",
      "All 234 rows in the validation dataframe are contained within X and y: True\n",
      "\n",
      "Returning y probabilities\n",
      "All 935 rows in the training dataframe are contained within X and y: True\n",
      "\n",
      "All 234 rows in the validation dataframe are contained within X and y: True\n",
      "\n",
      "Returning y probabilities\n",
      "All 936 rows in the training dataframe are contained within X and y: True\n",
      "\n",
      "All 233 rows in the validation dataframe are contained within X and y: True\n",
      "\n",
      "Returning y probabilities\n",
      "All 935 rows in the training dataframe are contained within X and y: True\n",
      "\n",
      "All 234 rows in the validation dataframe are contained within X and y: True\n",
      "\n",
      "Returning y probabilities\n",
      "All 935 rows in the training dataframe are contained within X and y: True\n",
      "\n",
      "All 234 rows in the validation dataframe are contained within X and y: True\n",
      "\n",
      "Returning y probabilities\n",
      "All 935 rows in the training dataframe are contained within X and y: True\n",
      "\n",
      "All 234 rows in the validation dataframe are contained within X and y: True\n",
      "\n",
      "Returning y probabilities\n",
      "All 935 rows in the training dataframe are contained within X and y: True\n",
      "\n",
      "All 234 rows in the validation dataframe are contained within X and y: True\n",
      "\n",
      "Returning y probabilities\n",
      "All 936 rows in the training dataframe are contained within X and y: True\n",
      "\n",
      "All 233 rows in the validation dataframe are contained within X and y: True\n",
      "\n",
      "Returning y probabilities\n",
      "All 935 rows in the training dataframe are contained within X and y: True\n",
      "\n",
      "All 234 rows in the validation dataframe are contained within X and y: True\n",
      "\n",
      "Returning y probabilities\n",
      "All 935 rows in the training dataframe are contained within X and y: True\n",
      "\n",
      "All 234 rows in the validation dataframe are contained within X and y: True\n",
      "\n",
      "Returning y probabilities\n",
      "All 935 rows in the training dataframe are contained within X and y: True\n",
      "\n",
      "All 234 rows in the validation dataframe are contained within X and y: True\n",
      "\n",
      "Returning y probabilities\n",
      "All 935 rows in the training dataframe are contained within X and y: True\n",
      "\n",
      "All 234 rows in the validation dataframe are contained within X and y: True\n",
      "\n",
      "Returning y probabilities\n",
      "All 936 rows in the training dataframe are contained within X and y: True\n",
      "\n",
      "All 233 rows in the validation dataframe are contained within X and y: True\n",
      "\n",
      "Returning y probabilities\n"
     ]
    },
    {
     "data": {
      "text/html": [
       "<div>\n",
       "<style scoped>\n",
       "    .dataframe tbody tr th:only-of-type {\n",
       "        vertical-align: middle;\n",
       "    }\n",
       "\n",
       "    .dataframe tbody tr th {\n",
       "        vertical-align: top;\n",
       "    }\n",
       "\n",
       "    .dataframe thead th {\n",
       "        text-align: right;\n",
       "    }\n",
       "</style>\n",
       "<table border=\"1\" class=\"dataframe\">\n",
       "  <thead>\n",
       "    <tr style=\"text-align: right;\">\n",
       "      <th></th>\n",
       "      <th>mean</th>\n",
       "      <th>std</th>\n",
       "    </tr>\n",
       "  </thead>\n",
       "  <tbody>\n",
       "    <tr>\n",
       "      <th>0.000001</th>\n",
       "      <td>0.903</td>\n",
       "      <td>0.014</td>\n",
       "    </tr>\n",
       "    <tr>\n",
       "      <th>0.001000</th>\n",
       "      <td>0.905</td>\n",
       "      <td>0.014</td>\n",
       "    </tr>\n",
       "    <tr>\n",
       "      <th>1.000000</th>\n",
       "      <td>0.920</td>\n",
       "      <td>0.011</td>\n",
       "    </tr>\n",
       "  </tbody>\n",
       "</table>\n",
       "</div>"
      ],
      "text/plain": [
       "           mean    std\n",
       "0.000001  0.903  0.014\n",
       "0.001000  0.905  0.014\n",
       "1.000000  0.920  0.011"
      ]
     },
     "execution_count": 24,
     "metadata": {},
     "output_type": "execute_result"
    }
   ],
   "source": [
    "C_values = [0.000001, 0.001, 1]\n",
    "\n",
    "C_scores = {}\n",
    "for C in C_values:\n",
    "    # kfold = KFold(n_splits=5, shuffle=True, random_state=1)\n",
    "    ht_ra_score = []\n",
    "    for train_idx, val_idx in kfold.split(full_train_df):\n",
    "        train_ht_df = full_train_df.iloc[train_idx]\n",
    "        val_ht_df = full_train_df.iloc[val_idx]\n",
    "    \n",
    "        (X_train_ht, X_val_ht), (y_train_ht, y_val_ht), X_names_ht = prepare_X_y([train_ht_df, val_ht_df], scale_num_cols=numeric_cols, verbose=True, labels=[\" training \", \" validation \"])\n",
    "    \n",
    "        model = train_logistic_reg_model(X_train_ht, y_train_ht, C=C)\n",
    "        y_pred_ht = predict_y(model, X_val_ht, y_type=\"proba\")\n",
    "        tmp_score = evaluate_classifier(y_val_ht, y_pred_ht, \"roc_auc\")\n",
    "        ht_ra_score.append(tmp_score)\n",
    "    C_scores[C] = [round(np.mean(ht_ra_score), 3), round(np.std(ht_ra_score), 3)]\n",
    "\n",
    "scores_by_C = pd.DataFrame.from_dict(C_scores, orient='index', columns=['mean', 'std'])\n",
    "scores_by_C"
   ]
  },
  {
   "cell_type": "code",
   "execution_count": 25,
   "id": "8d2c5928-92c9-42f4-8f5b-b90efaa84ca4",
   "metadata": {},
   "outputs": [
    {
     "name": "stdout",
     "output_type": "stream",
     "text": [
      "The C value that produces the best mean ROC AUC score = \u001b[1m1.0\n"
     ]
    }
   ],
   "source": [
    "print(f\"The C value that produces the best mean ROC AUC score = {BOLD}{scores_by_C['mean'].idxmax()}\")"
   ]
  },
  {
   "cell_type": "markdown",
   "id": "d20aa9dc-070a-41b0-a1dc-20ca63160fe5",
   "metadata": {},
   "source": [
    "### Extra Credit"
   ]
  },
  {
   "cell_type": "code",
   "execution_count": null,
   "id": "079b1299-8677-4516-9c24-c9ce32612fb1",
   "metadata": {},
   "outputs": [],
   "source": []
  },
  {
   "cell_type": "code",
   "execution_count": null,
   "id": "2e2caff0-9044-490b-a3c4-4a691c9b85c8",
   "metadata": {},
   "outputs": [],
   "source": []
  }
 ],
 "metadata": {
  "kernelspec": {
   "display_name": "Python 3 (ipykernel)",
   "language": "python",
   "name": "python3"
  },
  "language_info": {
   "codemirror_mode": {
    "name": "ipython",
    "version": 3
   },
   "file_extension": ".py",
   "mimetype": "text/x-python",
   "name": "python",
   "nbconvert_exporter": "python",
   "pygments_lexer": "ipython3",
   "version": "3.12.1"
  }
 },
 "nbformat": 4,
 "nbformat_minor": 5
}
