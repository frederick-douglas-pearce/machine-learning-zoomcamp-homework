{
 "cells": [
  {
   "cell_type": "markdown",
   "id": "a1a55933-141c-4c54-90fe-bd7ad2be10df",
   "metadata": {},
   "source": [
    "## Homework 2\n",
    "This notebook contains the solutions for the second homework assignment of the Machine Learning Zoomcamp 2025 course, which can be viewed on github with the following [link](https://github.com/DataTalksClub/machine-learning-zoomcamp/blob/master/cohorts/2025/02-regression/homework.md). The final solutions notebook is submitted for grading at the following [link](https://courses.datatalks.club/ml-zoomcamp-2025/homework/hw02).\n",
    "### Setup"
   ]
  },
  {
   "cell_type": "code",
   "execution_count": 2,
   "id": "404a87fb-054f-4b05-9aa8-2b542a8719e8",
   "metadata": {},
   "outputs": [],
   "source": [
    "# Import packages\n",
    "import matplotlib.pyplot as plt\n",
    "import numpy as np\n",
    "import pandas as pd\n",
    "import seaborn as sns"
   ]
  },
  {
   "cell_type": "code",
   "execution_count": 3,
   "id": "25f94c0b-a6b5-4d29-895b-5a3aecc42290",
   "metadata": {},
   "outputs": [],
   "source": [
    "# Load the dataset from the following url\n",
    "url_path = \"https://raw.githubusercontent.com/alexeygrigorev/datasets/master/car_fuel_efficiency.csv\"\n",
    "# Prepend this string to final answers so they print as bold text\n",
    "BOLD = \"\\033[1m\""
   ]
  },
  {
   "cell_type": "code",
   "execution_count": 4,
   "id": "0ad71e07-d693-4dae-bc9d-0645af888807",
   "metadata": {},
   "outputs": [
    {
     "name": "stdout",
     "output_type": "stream",
     "text": [
      "<class 'pandas.core.frame.DataFrame'>\n",
      "RangeIndex: 9704 entries, 0 to 9703\n",
      "Data columns (total 11 columns):\n",
      " #   Column               Non-Null Count  Dtype  \n",
      "---  ------               --------------  -----  \n",
      " 0   engine_displacement  9704 non-null   int64  \n",
      " 1   num_cylinders        9222 non-null   float64\n",
      " 2   horsepower           8996 non-null   float64\n",
      " 3   vehicle_weight       9704 non-null   float64\n",
      " 4   acceleration         8774 non-null   float64\n",
      " 5   model_year           9704 non-null   int64  \n",
      " 6   origin               9704 non-null   object \n",
      " 7   fuel_type            9704 non-null   object \n",
      " 8   drivetrain           9704 non-null   object \n",
      " 9   num_doors            9202 non-null   float64\n",
      " 10  fuel_efficiency_mpg  9704 non-null   float64\n",
      "dtypes: float64(6), int64(2), object(3)\n",
      "memory usage: 834.1+ KB\n"
     ]
    },
    {
     "data": {
      "text/html": [
       "<div>\n",
       "<style scoped>\n",
       "    .dataframe tbody tr th:only-of-type {\n",
       "        vertical-align: middle;\n",
       "    }\n",
       "\n",
       "    .dataframe tbody tr th {\n",
       "        vertical-align: top;\n",
       "    }\n",
       "\n",
       "    .dataframe thead th {\n",
       "        text-align: right;\n",
       "    }\n",
       "</style>\n",
       "<table border=\"1\" class=\"dataframe\">\n",
       "  <thead>\n",
       "    <tr style=\"text-align: right;\">\n",
       "      <th></th>\n",
       "      <th>engine_displacement</th>\n",
       "      <th>num_cylinders</th>\n",
       "      <th>horsepower</th>\n",
       "      <th>vehicle_weight</th>\n",
       "      <th>acceleration</th>\n",
       "      <th>model_year</th>\n",
       "      <th>origin</th>\n",
       "      <th>fuel_type</th>\n",
       "      <th>drivetrain</th>\n",
       "      <th>num_doors</th>\n",
       "      <th>fuel_efficiency_mpg</th>\n",
       "    </tr>\n",
       "  </thead>\n",
       "  <tbody>\n",
       "    <tr>\n",
       "      <th>0</th>\n",
       "      <td>170</td>\n",
       "      <td>3.0</td>\n",
       "      <td>159.0</td>\n",
       "      <td>3413.433759</td>\n",
       "      <td>17.7</td>\n",
       "      <td>2003</td>\n",
       "      <td>Europe</td>\n",
       "      <td>Gasoline</td>\n",
       "      <td>All-wheel drive</td>\n",
       "      <td>0.0</td>\n",
       "      <td>13.231729</td>\n",
       "    </tr>\n",
       "    <tr>\n",
       "      <th>1</th>\n",
       "      <td>130</td>\n",
       "      <td>5.0</td>\n",
       "      <td>97.0</td>\n",
       "      <td>3149.664934</td>\n",
       "      <td>17.8</td>\n",
       "      <td>2007</td>\n",
       "      <td>USA</td>\n",
       "      <td>Gasoline</td>\n",
       "      <td>Front-wheel drive</td>\n",
       "      <td>0.0</td>\n",
       "      <td>13.688217</td>\n",
       "    </tr>\n",
       "    <tr>\n",
       "      <th>2</th>\n",
       "      <td>170</td>\n",
       "      <td>NaN</td>\n",
       "      <td>78.0</td>\n",
       "      <td>3079.038997</td>\n",
       "      <td>15.1</td>\n",
       "      <td>2018</td>\n",
       "      <td>Europe</td>\n",
       "      <td>Gasoline</td>\n",
       "      <td>Front-wheel drive</td>\n",
       "      <td>0.0</td>\n",
       "      <td>14.246341</td>\n",
       "    </tr>\n",
       "    <tr>\n",
       "      <th>3</th>\n",
       "      <td>220</td>\n",
       "      <td>4.0</td>\n",
       "      <td>NaN</td>\n",
       "      <td>2542.392402</td>\n",
       "      <td>20.2</td>\n",
       "      <td>2009</td>\n",
       "      <td>USA</td>\n",
       "      <td>Diesel</td>\n",
       "      <td>All-wheel drive</td>\n",
       "      <td>2.0</td>\n",
       "      <td>16.912736</td>\n",
       "    </tr>\n",
       "    <tr>\n",
       "      <th>4</th>\n",
       "      <td>210</td>\n",
       "      <td>1.0</td>\n",
       "      <td>140.0</td>\n",
       "      <td>3460.870990</td>\n",
       "      <td>14.4</td>\n",
       "      <td>2009</td>\n",
       "      <td>Europe</td>\n",
       "      <td>Gasoline</td>\n",
       "      <td>All-wheel drive</td>\n",
       "      <td>2.0</td>\n",
       "      <td>12.488369</td>\n",
       "    </tr>\n",
       "    <tr>\n",
       "      <th>5</th>\n",
       "      <td>190</td>\n",
       "      <td>3.0</td>\n",
       "      <td>NaN</td>\n",
       "      <td>2484.883986</td>\n",
       "      <td>14.7</td>\n",
       "      <td>2008</td>\n",
       "      <td>Europe</td>\n",
       "      <td>Gasoline</td>\n",
       "      <td>All-wheel drive</td>\n",
       "      <td>-1.0</td>\n",
       "      <td>17.271818</td>\n",
       "    </tr>\n",
       "    <tr>\n",
       "      <th>6</th>\n",
       "      <td>240</td>\n",
       "      <td>7.0</td>\n",
       "      <td>127.0</td>\n",
       "      <td>3006.542287</td>\n",
       "      <td>22.2</td>\n",
       "      <td>2012</td>\n",
       "      <td>USA</td>\n",
       "      <td>Gasoline</td>\n",
       "      <td>Front-wheel drive</td>\n",
       "      <td>1.0</td>\n",
       "      <td>13.210412</td>\n",
       "    </tr>\n",
       "    <tr>\n",
       "      <th>7</th>\n",
       "      <td>150</td>\n",
       "      <td>4.0</td>\n",
       "      <td>239.0</td>\n",
       "      <td>3638.657780</td>\n",
       "      <td>17.3</td>\n",
       "      <td>2020</td>\n",
       "      <td>USA</td>\n",
       "      <td>Diesel</td>\n",
       "      <td>All-wheel drive</td>\n",
       "      <td>1.0</td>\n",
       "      <td>12.848884</td>\n",
       "    </tr>\n",
       "    <tr>\n",
       "      <th>8</th>\n",
       "      <td>250</td>\n",
       "      <td>1.0</td>\n",
       "      <td>174.0</td>\n",
       "      <td>2714.219310</td>\n",
       "      <td>10.3</td>\n",
       "      <td>2016</td>\n",
       "      <td>Asia</td>\n",
       "      <td>Diesel</td>\n",
       "      <td>Front-wheel drive</td>\n",
       "      <td>-1.0</td>\n",
       "      <td>16.823554</td>\n",
       "    </tr>\n",
       "    <tr>\n",
       "      <th>9</th>\n",
       "      <td>150</td>\n",
       "      <td>4.0</td>\n",
       "      <td>123.0</td>\n",
       "      <td>3509.036569</td>\n",
       "      <td>10.2</td>\n",
       "      <td>2005</td>\n",
       "      <td>USA</td>\n",
       "      <td>Gasoline</td>\n",
       "      <td>Front-wheel drive</td>\n",
       "      <td>-1.0</td>\n",
       "      <td>12.298355</td>\n",
       "    </tr>\n",
       "  </tbody>\n",
       "</table>\n",
       "</div>"
      ],
      "text/plain": [
       "   engine_displacement  num_cylinders  horsepower  vehicle_weight  \\\n",
       "0                  170            3.0       159.0     3413.433759   \n",
       "1                  130            5.0        97.0     3149.664934   \n",
       "2                  170            NaN        78.0     3079.038997   \n",
       "3                  220            4.0         NaN     2542.392402   \n",
       "4                  210            1.0       140.0     3460.870990   \n",
       "5                  190            3.0         NaN     2484.883986   \n",
       "6                  240            7.0       127.0     3006.542287   \n",
       "7                  150            4.0       239.0     3638.657780   \n",
       "8                  250            1.0       174.0     2714.219310   \n",
       "9                  150            4.0       123.0     3509.036569   \n",
       "\n",
       "   acceleration  model_year  origin fuel_type         drivetrain  num_doors  \\\n",
       "0          17.7        2003  Europe  Gasoline    All-wheel drive        0.0   \n",
       "1          17.8        2007     USA  Gasoline  Front-wheel drive        0.0   \n",
       "2          15.1        2018  Europe  Gasoline  Front-wheel drive        0.0   \n",
       "3          20.2        2009     USA    Diesel    All-wheel drive        2.0   \n",
       "4          14.4        2009  Europe  Gasoline    All-wheel drive        2.0   \n",
       "5          14.7        2008  Europe  Gasoline    All-wheel drive       -1.0   \n",
       "6          22.2        2012     USA  Gasoline  Front-wheel drive        1.0   \n",
       "7          17.3        2020     USA    Diesel    All-wheel drive        1.0   \n",
       "8          10.3        2016    Asia    Diesel  Front-wheel drive       -1.0   \n",
       "9          10.2        2005     USA  Gasoline  Front-wheel drive       -1.0   \n",
       "\n",
       "   fuel_efficiency_mpg  \n",
       "0            13.231729  \n",
       "1            13.688217  \n",
       "2            14.246341  \n",
       "3            16.912736  \n",
       "4            12.488369  \n",
       "5            17.271818  \n",
       "6            13.210412  \n",
       "7            12.848884  \n",
       "8            16.823554  \n",
       "9            12.298355  "
      ]
     },
     "execution_count": 4,
     "metadata": {},
     "output_type": "execute_result"
    }
   ],
   "source": [
    "# Load data and inspect it\n",
    "cfe_df = pd.read_csv(url_path)\n",
    "cfe_df.info()\n",
    "cfe_df.head(10)"
   ]
  },
  {
   "cell_type": "markdown",
   "id": "8015ee4b-6e11-475b-91cd-6ea23b9d1019",
   "metadata": {},
   "source": [
    "#### Preprocessing"
   ]
  },
  {
   "cell_type": "code",
   "execution_count": 5,
   "id": "1ff00ce1-ec8f-418b-91a9-35303d400f7e",
   "metadata": {},
   "outputs": [
    {
     "name": "stdout",
     "output_type": "stream",
     "text": [
      "<class 'pandas.core.frame.DataFrame'>\n",
      "RangeIndex: 9704 entries, 0 to 9703\n",
      "Data columns (total 5 columns):\n",
      " #   Column               Non-Null Count  Dtype  \n",
      "---  ------               --------------  -----  \n",
      " 0   engine_displacement  9704 non-null   int64  \n",
      " 1   horsepower           8996 non-null   float64\n",
      " 2   vehicle_weight       9704 non-null   float64\n",
      " 3   model_year           9704 non-null   int64  \n",
      " 4   fuel_efficiency_mpg  9704 non-null   float64\n",
      "dtypes: float64(3), int64(2)\n",
      "memory usage: 379.2 KB\n"
     ]
    }
   ],
   "source": [
    "cols_to_keep = ['engine_displacement', 'horsepower', 'vehicle_weight', 'model_year','fuel_efficiency_mpg']\n",
    "pp_df = cfe_df[cols_to_keep].copy()\n",
    "pp_df.info()"
   ]
  },
  {
   "cell_type": "markdown",
   "id": "787d0f65-d4a9-4adf-90d5-1e75a65dfcbe",
   "metadata": {},
   "source": [
    "#### EDA\n",
    "That's one beautiful looking bell-shaped curve -> no need for rescaling of the target variable."
   ]
  },
  {
   "cell_type": "code",
   "execution_count": 6,
   "id": "c2380a87-1198-4b7b-9b2d-74e550899337",
   "metadata": {},
   "outputs": [
    {
     "data": {
      "text/plain": [
       "<Axes: xlabel='fuel_efficiency_mpg', ylabel='Count'>"
      ]
     },
     "execution_count": 6,
     "metadata": {},
     "output_type": "execute_result"
    },
    {
     "data": {
      "image/png": "[encoded data removed]",
      "text/plain": [
       "<Figure size 640x480 with 1 Axes>"
      ]
     },
     "metadata": {},
     "output_type": "display_data"
    }
   ],
   "source": [
    "sns.histplot(pp_df['fuel_efficiency_mpg'], bins=50)"
   ]
  },
  {
   "cell_type": "markdown",
   "id": "f51d5da8-1b4a-4f27-95e2-1f77b1a74fba",
   "metadata": {},
   "source": [
    "#### Define functions"
   ]
  },
  {
   "cell_type": "code",
   "execution_count": 20,
   "id": "8502dc4f-d9c2-4aa7-adcd-eb9b9870674a",
   "metadata": {},
   "outputs": [],
   "source": [
    "# Split the dataset\n",
    "def split_train_val_test(df, val_ratio, test_ratio, r_seed, verbose=False):\n",
    "    \"\"\"Split input dataframe into randomly shuffled train, validation,\n",
    "    and test datasets with the validation dataset containing val_ratio of the\n",
    "    input data and the test dataset containing test_ratio of the input data.\n",
    "    \"\"\"\n",
    "    n = len(df)\n",
    "    n_val = int(val_ratio * n)\n",
    "    n_test = int(test_ratio * n)\n",
    "    n_train = n - n_val - n_test\n",
    "    # Randomly shuffle input data's index\n",
    "    idx = np.arange(n)\n",
    "    np.random.seed(r_seed)\n",
    "    np.random.shuffle(idx)\n",
    "    # Generate train, validation, and test splits\n",
    "    train_df = df.iloc[idx[:n_train]]\n",
    "    val_df = df.iloc[idx[n_train:n_train+n_val]]\n",
    "    test_df = df.iloc[idx[n_train+n_val:]]\n",
    "    if verbose:\n",
    "        print(f\"All rows in the original dataframe are contained within the training, validation, or test datasets: {len(train_df) + len(val_df) + len(test_df) == len(df)}\")\n",
    "    return train_df, val_df, test_df\n",
    "\n",
    "# Prepare X and y\n",
    "def prepare_X_y(df, target_col=\"fuel_efficiency_mpg\", na_val=0, verbose=False, label=\" \"):\n",
    "    pdf = df.copy()\n",
    "    y = pdf[target_col].values\n",
    "    X = pdf.drop(columns=target_col).fillna(na_val).values\n",
    "    if verbose:\n",
    "        print(f\"All {len(df)} rows in the{label}dataframe are contained within X and y: {len(X) == len(y) == len(df)}\\n\")\n",
    "    return X, y\n",
    "\n",
    "# Train linear regression model\n",
    "def train_linear_regression(X, y, reg=0, verbose=False):\n",
    "    \"\"\"Train a linear regression model using the normal equations, include\n",
    "    L2 regularization (i.e. damping), reg.\n",
    "    \"\"\"\n",
    "    ones = np.ones(X.shape[0])\n",
    "    X = np.column_stack([ones, X])\n",
    "    if reg:\n",
    "        reg = reg * np.eye(X.shape[1])\n",
    "    XTX_inv = np.linalg.inv(X.T.dot(X) + reg)\n",
    "    w = XTX_inv.dot(X.T).dot(y)\n",
    "    if verbose:\n",
    "        print(f\"Model parameters are as follows: w0 = {w[0]}, w = {w[1:]}\\n\")\n",
    "    return w[0], w[1:]\n",
    "\n",
    "# Predict y\n",
    "def predict_y(X, w0, w):\n",
    "    return w0 + X.dot(w)\n",
    "\n",
    "# Calculate RMSE\n",
    "def compute_rmse(y, y_pred, round_flag=False, round_dec=2, verbose=False, data_label=\"\", prep_label=\"\"):\n",
    "    \"\"\"Compute Root Mean Square Error (RMSE) rounded to 2 decimal places.\"\"\"\n",
    "    se = (y - y_pred) ** 2\n",
    "    rmse = np.sqrt(se.mean())\n",
    "    if round_flag:\n",
    "        rmse = round(rmse, round_dec)\n",
    "    if verbose:\n",
    "        print(f\"{data_label}RMSE{prep_label} = {rmse}\\n\")\n",
    "    return rmse\n",
    "\n",
    "# Print whether RMSE for Q3 changed\n",
    "def get_rmse_change_str(rmse_0, rmse_mean):\n",
    "    if rmse_0 > rmse_mean:\n",
    "        return \"With mean\"\n",
    "    elif rmse_0 < rmse_mean:\n",
    "        return \"With 0\"\n",
    "    else:\n",
    "        return \"Both are equally good\""
   ]
  },
  {
   "cell_type": "markdown",
   "id": "36a1ba8f-ce4a-4346-8e6a-ce2ac6c2877a",
   "metadata": {},
   "source": [
    "### Q1. Column with missing values"
   ]
  },
  {
   "cell_type": "code",
   "execution_count": 8,
   "id": "51f06111-0552-49c3-87c8-de99a3dfb7a5",
   "metadata": {},
   "outputs": [
    {
     "name": "stdout",
     "output_type": "stream",
     "text": [
      "The following column contains missing values: \u001b[1mhorsepower\n"
     ]
    }
   ],
   "source": [
    "print(f\"The following column contains missing values: {BOLD}{pp_df.columns[pp_df.isna().sum() > 0][0]}\")"
   ]
  },
  {
   "cell_type": "markdown",
   "id": "e950a309-c9d3-4eed-88f3-1fb18b59bee4",
   "metadata": {},
   "source": [
    "### Q2. Median horsepower"
   ]
  },
  {
   "cell_type": "code",
   "execution_count": 9,
   "id": "be9e16cc-581b-496a-893a-7c106c0a6968",
   "metadata": {},
   "outputs": [
    {
     "name": "stdout",
     "output_type": "stream",
     "text": [
      "The median horsepower value is \u001b[1m149.00\n"
     ]
    }
   ],
   "source": [
    "print(f\"The median horsepower value is {BOLD}{pp_df['horsepower'].median():0.2f}\")"
   ]
  },
  {
   "cell_type": "markdown",
   "id": "d9384408-0ea4-49cc-b874-956c750fbc2c",
   "metadata": {},
   "source": [
    "### Q3. Effect of data imputation on RMSE\n",
    "- We need to deal with missing values for the column from Q1. We have two options: fill it\n",
    "  1. with 0 or\n",
    "  2. with the mean\n",
    "- Try both options. For each,\n",
    "  1. train a linear regression model without regularization using the code from the lessons. For computing the mean, use the training only!\n",
    "  2. use the validation dataset to evaluate the models and compare the RMSE of each option. Round the RMSE scores to 2 decimal digits using round(score, 2)\n",
    "- Which option gives better RMSE?\n"
   ]
  },
  {
   "cell_type": "code",
   "execution_count": 10,
   "id": "fcde67b2-49e7-4042-b173-3d92d5c176b7",
   "metadata": {},
   "outputs": [
    {
     "name": "stdout",
     "output_type": "stream",
     "text": [
      "All rows in the original dataframe are contained within the training, validation, or test datasets: True\n"
     ]
    }
   ],
   "source": [
    "# Generate training, validation and test datasets\n",
    "val_ratio = 0.2\n",
    "test_ratio = 0.2\n",
    "r_seed = 42\n",
    "train_df, val_df, test_df = split_train_val_test(pp_df, val_ratio, test_ratio, r_seed, verbose=True)"
   ]
  },
  {
   "cell_type": "code",
   "execution_count": 21,
   "id": "6eeeafa1-2f91-4fe0-bced-90a98642c300",
   "metadata": {},
   "outputs": [
    {
     "name": "stdout",
     "output_type": "stream",
     "text": [
      "All 5824 rows in the training dataframe are contained within X and y: True\n",
      "\n",
      "Model parameters are as follows: w0 = 27.513852581224892, w = [-7.49245681e-05  3.51310422e-03 -5.02056083e-03  1.02939922e-03]\n",
      "\n",
      "Training RMSE with HP NAs filled with 0 = 0.52\n",
      "\n",
      "All 1940 rows in the validation dataframe are contained within X and y: True\n",
      "\n",
      "Validation RMSE with HP NAs filled with 0 = 0.51\n",
      "\n"
     ]
    }
   ],
   "source": [
    "# Train model with horsepower NA values filled with 0\n",
    "X_train_hp0, y_train_hp0 = prepare_X_y(train_df, verbose=True, label=\" training \")\n",
    "w0_hp0, w_hp0 = train_linear_regression(X_train_hp0, y_train_hp0, verbose=True)\n",
    "y_pred_train_hp0 = predict_y(X_train_hp0, w0_hp0, w_hp0)\n",
    "rmse_train_hp0 = compute_rmse(y_train_hp0, y_pred_train_hp0, round_flag=True, verbose=True, data_label=\"Training \", prep_label=\" with HP NAs filled with 0\")\n",
    "\n",
    "# Apply model to validation dataset with horsepower NA values filled with 0\n",
    "X_val_hp0, y_val_hp0 = prepare_X_y(val_df, verbose=True, label=\" validation \")\n",
    "y_pred_val_hp0 = predict_y(X_val_hp0, w0_hp0, w_hp0)\n",
    "rmse_val_hp0 = compute_rmse(y_val_hp0, y_pred_val_hp0, round_flag=True, verbose=True, data_label=\"Validation \", prep_label=\" with HP NAs filled with 0\")"
   ]
  },
  {
   "cell_type": "code",
   "execution_count": 22,
   "id": "84e2b7b1-35fc-4eed-a162-3145c9056c3f",
   "metadata": {},
   "outputs": [
    {
     "name": "stdout",
     "output_type": "stream",
     "text": [
      "All 5824 rows in the training dataframe are contained within X and y: True\n",
      "\n",
      "Model parameters are as follows: w0 = 27.672575469399483, w = [ 7.55264124e-05  1.00350250e-02 -5.02056898e-03  4.30803051e-04]\n",
      "\n",
      "Training RMSE with HP NAs filled with Mean = 0.47\n",
      "\n",
      "All 1940 rows in the validation dataframe are contained within X and y: True\n",
      "\n",
      "Validation RMSE with HP NAs filled with Mean = 0.46\n",
      "\n"
     ]
    }
   ],
   "source": [
    "# Train model with horsepower NA values filled with mean\n",
    "hp_train_mean = {'horsepower': train_df['horsepower'].mean()}\n",
    "X_train_hpmean, y_train_hpmean = prepare_X_y(train_df, na_val=hp_train_mean, verbose=True, label=\" training \")\n",
    "w0_hpmean, w_hpmean = train_linear_regression(X_train_hpmean, y_train_hpmean, verbose=True)\n",
    "y_pred_train_hpmean = predict_y(X_train_hpmean, w0_hpmean, w_hpmean)\n",
    "rmse_train_hpmean = compute_rmse(y_train_hpmean, y_pred_train_hpmean, round_flag=True, verbose=True, data_label=\"Training \", prep_label=\" with HP NAs filled with Mean\")\n",
    "\n",
    "# Evaluate model with validation dataset using horsepower NA values filled with Mean\n",
    "X_val_hpmean, y_val_hpmean = prepare_X_y(val_df, na_val=hp_train_mean, verbose=True, label=\" validation \")\n",
    "y_pred_val_hpmean = predict_y(X_val_hpmean, w0_hpmean, w_hpmean)\n",
    "rmse_val_hpmean = compute_rmse(y_val_hpmean, y_pred_val_hpmean, round_flag=True, verbose=True, data_label=\"Validation \", prep_label=\" with HP NAs filled with Mean\")"
   ]
  },
  {
   "cell_type": "code",
   "execution_count": 23,
   "id": "3e5f5754-7c75-4c61-be9b-c20e61ed40cd",
   "metadata": {},
   "outputs": [
    {
     "name": "stdout",
     "output_type": "stream",
     "text": [
      "Which horsepower missing values approach yields a lower RMSE? \u001b[1mWith mean\n"
     ]
    }
   ],
   "source": [
    "print(f\"Which horsepower missing values approach yields a lower RMSE? {BOLD}{get_rmse_change_str(rmse_val_hp0, rmse_val_hpmean)}\")"
   ]
  },
  {
   "cell_type": "markdown",
   "id": "9e8cdc15-a71a-47ff-9644-d22c6b97e517",
   "metadata": {},
   "source": [
    "### Q4. R with best RMSE\n",
    "Train a regularized linear regression.\n",
    "  1. Fill the NAs with 0\n",
    "  2. Try different values of r from this list: [0, 0.01, 0.1, 1, 5, 10, 100]\n",
    "  3. Use RMSE to evaluate the model on the validation dataset. Round the RMSE scores to 2 decimal digits.\n",
    "\n",
    "Which r gives the best RMSE? If there are multiple options, select the smallest r."
   ]
  },
  {
   "cell_type": "code",
   "execution_count": 24,
   "id": "61db150d-39fa-47b4-a70e-b8d76f62a94b",
   "metadata": {},
   "outputs": [
    {
     "name": "stdout",
     "output_type": "stream",
     "text": [
      "\n",
      "Evaluating Linear Model Trained with R = 0\n",
      "\n",
      "All 5824 rows in the training dataframe are contained within X and y: True\n",
      "\n",
      "Model parameters are as follows: w0 = 27.513852581224892, w = [-7.49245681e-05  3.51310422e-03 -5.02056083e-03  1.02939922e-03]\n",
      "\n",
      "Training RMSE with HP NAs filled with 0 = 0.52\n",
      "\n",
      "All 1940 rows in the validation dataframe are contained within X and y: True\n",
      "\n",
      "Validation RMSE with HP NAs filled with 0 = 0.51\n",
      "\n",
      "\n",
      "Evaluating Linear Model Trained with R = 0.01\n",
      "\n",
      "All 5824 rows in the training dataframe are contained within X and y: True\n",
      "\n",
      "Model parameters are as follows: w0 = 23.763992070001315, w = [-7.52235911e-05  3.51628171e-03 -5.01972276e-03  2.89209394e-03]\n",
      "\n",
      "Training RMSE with HP NAs filled with 0 = 0.52\n",
      "\n",
      "All 1940 rows in the validation dataframe are contained within X and y: True\n",
      "\n",
      "Validation RMSE with HP NAs filled with 0 = 0.51\n",
      "\n",
      "\n",
      "Evaluating Linear Model Trained with R = 0.1\n",
      "\n",
      "All 5824 rows in the training dataframe are contained within X and y: True\n",
      "\n",
      "Model parameters are as follows: w0 = 10.672729454455807, w = [-7.62675142e-05  3.52737473e-03 -5.01679695e-03  9.39500937e-03]\n",
      "\n",
      "Training RMSE with HP NAs filled with 0 = 0.52\n",
      "\n",
      "All 1940 rows in the validation dataframe are contained within X and y: True\n",
      "\n",
      "Validation RMSE with HP NAs filled with 0 = 0.52\n",
      "\n",
      "\n",
      "Evaluating Linear Model Trained with R = 1\n",
      "\n",
      "All 5824 rows in the training dataframe are contained within X and y: True\n",
      "\n",
      "Model parameters are as follows: w0 = 1.6397277818269727, w = [-7.69877358e-05  3.53502879e-03 -5.01477811e-03  1.38820361e-02]\n",
      "\n",
      "Training RMSE with HP NAs filled with 0 = 0.53\n",
      "\n",
      "All 1940 rows in the validation dataframe are contained within X and y: True\n",
      "\n",
      "Validation RMSE with HP NAs filled with 0 = 0.52\n",
      "\n",
      "\n",
      "Evaluating Linear Model Trained with R = 5\n",
      "\n",
      "All 5824 rows in the training dataframe are contained within X and y: True\n",
      "\n",
      "Model parameters are as follows: w0 = 0.34436954136060605, w = [-7.70906119e-05  3.53612571e-03 -5.01448853e-03  1.45254885e-02]\n",
      "\n",
      "Training RMSE with HP NAs filled with 0 = 0.53\n",
      "\n",
      "All 1940 rows in the validation dataframe are contained within X and y: True\n",
      "\n",
      "Validation RMSE with HP NAs filled with 0 = 0.52\n",
      "\n",
      "\n",
      "Evaluating Linear Model Trained with R = 10\n",
      "\n",
      "All 5824 rows in the training dataframe are contained within X and y: True\n",
      "\n",
      "Model parameters are as follows: w0 = 0.17327271342058204, w = [-7.71037315e-05  3.53626979e-03 -5.01445020e-03  1.46104785e-02]\n",
      "\n",
      "Training RMSE with HP NAs filled with 0 = 0.53\n",
      "\n",
      "All 1940 rows in the validation dataframe are contained within X and y: True\n",
      "\n",
      "Validation RMSE with HP NAs filled with 0 = 0.52\n",
      "\n",
      "\n",
      "Evaluating Linear Model Trained with R = 100\n",
      "\n",
      "All 5824 rows in the training dataframe are contained within X and y: True\n",
      "\n",
      "Model parameters are as follows: w0 = 0.0174326038486049, w = [-7.71067249e-05  3.53638568e-03 -5.01441374e-03  1.46878877e-02]\n",
      "\n",
      "Training RMSE with HP NAs filled with 0 = 0.53\n",
      "\n",
      "All 1940 rows in the validation dataframe are contained within X and y: True\n",
      "\n",
      "Validation RMSE with HP NAs filled with 0 = 0.52\n",
      "\n"
     ]
    }
   ],
   "source": [
    "reg_vals = [0, 0.01, 0.1, 1, 5, 10, 100]\n",
    "reg_val_rmse = []\n",
    "for reg in reg_vals:\n",
    "    print(f\"\\nEvaluating Linear Model Trained with R = {reg}\\n\")\n",
    "    # Train model with horsepower NA values filled with 0\n",
    "    X_train_hp0, y_train_hp0 = prepare_X_y(train_df, verbose=True, label=\" training \")\n",
    "    w0_hp0, w_hp0 = train_linear_regression(X_train_hp0, y_train_hp0, verbose=True, reg=reg)\n",
    "    y_pred_train_hp0 = predict_y(X_train_hp0, w0_hp0, w_hp0)\n",
    "    rmse_train_hp0 = compute_rmse(y_train_hp0, y_pred_train_hp0, round_flag=True, verbose=True, data_label=\"Training \", prep_label=\" with HP NAs filled with 0\")\n",
    "    \n",
    "    # Apply model to validation dataset with horsepower NA values filled with 0\n",
    "    X_val_hp0, y_val_hp0 = prepare_X_y(val_df, verbose=True, label=\" validation \")\n",
    "    y_pred_val_hp0 = predict_y(X_val_hp0, w0_hp0, w_hp0)\n",
    "    rmse_val_hp0 = compute_rmse(y_val_hp0, y_pred_val_hp0, round_flag=True, verbose=True, data_label=\"Validation \", prep_label=\" with HP NAs filled with 0\")\n",
    "    reg_val_rmse.append(rmse_val_hp0)"
   ]
  },
  {
   "cell_type": "code",
   "execution_count": 25,
   "id": "a0e06d69-374d-450b-97c0-649f94c1f77e",
   "metadata": {},
   "outputs": [
    {
     "name": "stdout",
     "output_type": "stream",
     "text": [
      "The smallest r value with the minimum RMSE = \u001b[1m0\n"
     ]
    }
   ],
   "source": [
    "print(f\"The smallest r value with the minimum RMSE = {BOLD}{reg_vals[reg_val_rmse.index(min(reg_val_rmse))]}\")"
   ]
  },
  {
   "cell_type": "markdown",
   "id": "40629c29-42c5-419d-b8e9-7fc87818949b",
   "metadata": {},
   "source": [
    "### Q5. Max fuel efficiency\n",
    "We used seed 42 for splitting the data. Let's find out how selecting the seed influences our score.\n",
    "- Try different seed values: [0, 1, 2, 3, 4, 5, 6, 7, 8, 9]. For each seed,\n",
    "  1. Split into train/validation/test datasets with 60%/20%/20% distribution, respectively\n",
    "  2. Fill the missing values with 0 and train a model without regularization\n",
    "  3. For each seed, evaluate the model on the validation dataset and collect the RMSE scores\n",
    "  4. Compute the standard deviation of all the scores. Use np.std and round the result to 3 decimal digits (round(std, 3))\n",
    "\n",
    "What's the value of std?"
   ]
  },
  {
   "cell_type": "code",
   "execution_count": 26,
   "id": "8a902d33-1d0a-4d3f-acb5-8e9bc987589c",
   "metadata": {},
   "outputs": [
    {
     "name": "stdout",
     "output_type": "stream",
     "text": [
      "All rows in the original dataframe are contained within the training, validation, or test datasets: True\n",
      "All 5824 rows in the training dataframe are contained within X and y: True\n",
      "\n",
      "Model parameters are as follows: w0 = 27.376388746528697, w = [ 0.00018021  0.00369662 -0.00500077  0.00102818]\n",
      "\n",
      "Training RMSE with HP NAs filled with 0 = 0.5171560913636251\n",
      "\n",
      "All 1940 rows in the validation dataframe are contained within X and y: True\n",
      "\n",
      "Validation RMSE with HP NAs filled with 0 = 0.5206531296294218\n",
      "\n",
      "All rows in the original dataframe are contained within the training, validation, or test datasets: True\n",
      "All 5824 rows in the training dataframe are contained within X and y: True\n",
      "\n",
      "Model parameters are as follows: w0 = 29.02246855416138, w = [ 9.11368124e-05  3.52555390e-03 -5.01868823e-03  2.57195231e-04]\n",
      "\n",
      "Training RMSE with HP NAs filled with 0 = 0.5148529296311273\n",
      "\n",
      "All 1940 rows in the validation dataframe are contained within X and y: True\n",
      "\n",
      "Validation RMSE with HP NAs filled with 0 = 0.521338891285577\n",
      "\n",
      "All rows in the original dataframe are contained within the training, validation, or test datasets: True\n",
      "All 5824 rows in the training dataframe are contained within X and y: True\n",
      "\n",
      "Model parameters are as follows: w0 = 25.904357611049043, w = [ 0.0001526   0.00378541 -0.00500641  0.00176812]\n",
      "\n",
      "Training RMSE with HP NAs filled with 0 = 0.520558311480986\n",
      "\n",
      "All 1940 rows in the validation dataframe are contained within X and y: True\n",
      "\n",
      "Validation RMSE with HP NAs filled with 0 = 0.5228069974803171\n",
      "\n",
      "All rows in the original dataframe are contained within the training, validation, or test datasets: True\n",
      "All 5824 rows in the training dataframe are contained within X and y: True\n",
      "\n",
      "Model parameters are as follows: w0 = 28.015450067910564, w = [ 0.0001811   0.0037275  -0.00500894  0.0007184 ]\n",
      "\n",
      "Training RMSE with HP NAs filled with 0 = 0.5198664820191077\n",
      "\n",
      "All 1940 rows in the validation dataframe are contained within X and y: True\n",
      "\n",
      "Validation RMSE with HP NAs filled with 0 = 0.515951674119676\n",
      "\n",
      "All rows in the original dataframe are contained within the training, validation, or test datasets: True\n",
      "All 5824 rows in the training dataframe are contained within X and y: True\n",
      "\n",
      "Model parameters are as follows: w0 = 25.93400040472635, w = [ 0.00019805  0.00351731 -0.00502054  0.00178834]\n",
      "\n",
      "Training RMSE with HP NAs filled with 0 = 0.5171675510792179\n",
      "\n",
      "All 1940 rows in the validation dataframe are contained within X and y: True\n",
      "\n",
      "Validation RMSE with HP NAs filled with 0 = 0.5109129460053851\n",
      "\n",
      "All rows in the original dataframe are contained within the training, validation, or test datasets: True\n",
      "All 5824 rows in the training dataframe are contained within X and y: True\n",
      "\n",
      "Model parameters are as follows: w0 = 25.89950696063403, w = [-1.25174912e-05  3.81581131e-03 -5.02060073e-03  1.80614812e-03]\n",
      "\n",
      "Training RMSE with HP NAs filled with 0 = 0.5195177528194667\n",
      "\n",
      "All 1940 rows in the validation dataframe are contained within X and y: True\n",
      "\n",
      "Validation RMSE with HP NAs filled with 0 = 0.52834064601107\n",
      "\n",
      "All rows in the original dataframe are contained within the training, validation, or test datasets: True\n",
      "All 5824 rows in the training dataframe are contained within X and y: True\n",
      "\n",
      "Model parameters are as follows: w0 = 25.917230934138303, w = [ 5.89281469e-05  3.53575704e-03 -5.00987070e-03  1.79093559e-03]\n",
      "\n",
      "Training RMSE with HP NAs filled with 0 = 0.5124114964022372\n",
      "\n",
      "All 1940 rows in the validation dataframe are contained within X and y: True\n",
      "\n",
      "Validation RMSE with HP NAs filled with 0 = 0.5313910658146311\n",
      "\n",
      "All rows in the original dataframe are contained within the training, validation, or test datasets: True\n",
      "All 5824 rows in the training dataframe are contained within X and y: True\n",
      "\n",
      "Model parameters are as follows: w0 = 28.414324731275375, w = [ 0.00012758  0.00332914 -0.0050143   0.00056398]\n",
      "\n",
      "Training RMSE with HP NAs filled with 0 = 0.524763629954572\n",
      "\n",
      "All 1940 rows in the validation dataframe are contained within X and y: True\n",
      "\n",
      "Validation RMSE with HP NAs filled with 0 = 0.5090670387381733\n",
      "\n",
      "All rows in the original dataframe are contained within the training, validation, or test datasets: True\n",
      "All 5824 rows in the training dataframe are contained within X and y: True\n",
      "\n",
      "Model parameters are as follows: w0 = 26.47841782687521, w = [ 0.00023176  0.00378573 -0.00501966  0.00149612]\n",
      "\n",
      "Training RMSE with HP NAs filled with 0 = 0.524306385184493\n",
      "\n",
      "All 1940 rows in the validation dataframe are contained within X and y: True\n",
      "\n",
      "Validation RMSE with HP NAs filled with 0 = 0.5147399129511132\n",
      "\n",
      "All rows in the original dataframe are contained within the training, validation, or test datasets: True\n",
      "All 5824 rows in the training dataframe are contained within X and y: True\n",
      "\n",
      "Model parameters are as follows: w0 = 27.513852581224892, w = [-7.49245681e-05  3.51310422e-03 -5.02056083e-03  1.02939922e-03]\n",
      "\n",
      "Training RMSE with HP NAs filled with 0 = 0.5219709782195826\n",
      "\n",
      "All 1940 rows in the validation dataframe are contained within X and y: True\n",
      "\n",
      "Validation RMSE with HP NAs filled with 0 = 0.5131865908224594\n",
      "\n"
     ]
    }
   ],
   "source": [
    "r_seed_vals = [0, 1, 2, 3, 4, 5, 6, 7, 8, 9]\n",
    "r_seed_val_rmse = []\n",
    "for r_seed in r_seed_vals:\n",
    "    train_df, val_df, test_df = split_train_val_test(pp_df, val_ratio, test_ratio, r_seed, verbose=True)\n",
    "    # Train model with horsepower NA values filled with 0\n",
    "    X_train_hp0, y_train_hp0 = prepare_X_y(train_df, verbose=True, label=\" training \")\n",
    "    w0_hp0, w_hp0 = train_linear_regression(X_train_hp0, y_train_hp0, verbose=True)\n",
    "    y_pred_train_hp0 = predict_y(X_train_hp0, w0_hp0, w_hp0)\n",
    "    rmse_train_hp0 = compute_rmse(y_train_hp0, y_pred_train_hp0, verbose=True, data_label=\"Training \", prep_label=\" with HP NAs filled with 0\")\n",
    "    \n",
    "    # Apply model to validation dataset with horsepower NA values filled with 0\n",
    "    X_val_hp0, y_val_hp0 = prepare_X_y(val_df, verbose=True, label=\" validation \")\n",
    "    y_pred_val_hp0 = predict_y(X_val_hp0, w0_hp0, w_hp0)\n",
    "    rmse_val_hp0 = compute_rmse(y_val_hp0, y_pred_val_hp0, verbose=True, data_label=\"Validation \", prep_label=\" with HP NAs filled with 0\")\n",
    "    r_seed_val_rmse.append(rmse_val_hp0)\n",
    "\n",
    "rs_val_rmse_std = round(np.std(r_seed_val_rmse), 3)"
   ]
  },
  {
   "cell_type": "code",
   "execution_count": 38,
   "id": "683db632-84ed-40a3-8a9a-07cc57dcfb44",
   "metadata": {},
   "outputs": [
    {
     "name": "stdout",
     "output_type": "stream",
     "text": [
      "The standard deviation of the validation RMSE values for different train/validation/test split random seeds = \u001b[1m0.007\n"
     ]
    }
   ],
   "source": [
    "print(f\"The standard deviation of the validation RMSE values for different train/validation/test split random seeds = {BOLD}{rs_val_rmse_std}\")"
   ]
  },
  {
   "cell_type": "markdown",
   "id": "271d0c86-f134-4017-83c9-fd02588e5359",
   "metadata": {},
   "source": [
    "### Q6. Median value of horsepower"
   ]
  },
  {
   "cell_type": "code",
   "execution_count": 10,
   "id": "81871b03-c2a3-4166-a3aa-68b12320ef39",
   "metadata": {},
   "outputs": [],
   "source": []
  },
  {
   "cell_type": "code",
   "execution_count": null,
   "id": "8d2c5928-92c9-42f4-8f5b-b90efaa84ca4",
   "metadata": {},
   "outputs": [],
   "source": []
  },
  {
   "cell_type": "code",
   "execution_count": null,
   "id": "0a073944-ff5e-4b07-b91e-dcf00f03401d",
   "metadata": {},
   "outputs": [],
   "source": []
  }
 ],
 "metadata": {
  "kernelspec": {
   "display_name": "Python 3 (ipykernel)",
   "language": "python",
   "name": "python3"
  },
  "language_info": {
   "codemirror_mode": {
    "name": "ipython",
    "version": 3
   },
   "file_extension": ".py",
   "mimetype": "text/x-python",
   "name": "python",
   "nbconvert_exporter": "python",
   "pygments_lexer": "ipython3",
   "version": "3.12.1"
  }
 },
 "nbformat": 4,
 "nbformat_minor": 5
}
